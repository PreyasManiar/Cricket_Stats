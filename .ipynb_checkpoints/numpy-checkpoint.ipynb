{
 "cells": [
  {
   "cell_type": "code",
   "execution_count": 1,
   "id": "eea01cf5-2e0f-4b0f-9a0d-6cd3d50b7f3e",
   "metadata": {},
   "outputs": [
    {
     "data": {
      "text/plain": [
       "numpy.int8"
      ]
     },
     "execution_count": 1,
     "metadata": {},
     "output_type": "execute_result"
    }
   ],
   "source": [
    "import numpy as np\n",
    "np.int8"
   ]
  },
  {
   "cell_type": "code",
   "execution_count": 2,
   "id": "982433ad-7c6d-4162-99c5-c270af89e1e6",
   "metadata": {},
   "outputs": [
    {
     "data": {
      "text/plain": [
       "array([5, 6, 7, 8, 9])"
      ]
     },
     "execution_count": 2,
     "metadata": {},
     "output_type": "execute_result"
    }
   ],
   "source": [
    "np.array([5,6,7,8,9])"
   ]
  },
  {
   "cell_type": "code",
   "execution_count": 3,
   "id": "4a842e98-7d72-4ff6-9e1c-b949bc64b663",
   "metadata": {},
   "outputs": [],
   "source": [
    "a=np.array([11,22,33,44,55])\n",
    "b=np.array([66,77,88,99,101])"
   ]
  },
  {
   "cell_type": "code",
   "execution_count": 5,
   "id": "fa457898-6aa0-4b7b-956b-252dd8bd7aeb",
   "metadata": {},
   "outputs": [
    {
     "name": "stdout",
     "output_type": "stream",
     "text": [
      "44\n",
      "101\n"
     ]
    }
   ],
   "source": [
    "print(a[3])\n",
    "print(b[4])"
   ]
  },
  {
   "cell_type": "code",
   "execution_count": 6,
   "id": "dadb2b3e-0131-42e2-b06e-cc99c5007475",
   "metadata": {},
   "outputs": [
    {
     "data": {
      "text/plain": [
       "(np.int64(22), np.int64(88))"
      ]
     },
     "execution_count": 6,
     "metadata": {},
     "output_type": "execute_result"
    }
   ],
   "source": [
    "a[1],b[2]"
   ]
  },
  {
   "cell_type": "code",
   "execution_count": 7,
   "id": "fc318ef8-ce07-4b92-8e14-6ce2399086c1",
   "metadata": {},
   "outputs": [
    {
     "data": {
      "text/plain": [
       "array([11, 22, 33, 44, 55])"
      ]
     },
     "execution_count": 7,
     "metadata": {},
     "output_type": "execute_result"
    }
   ],
   "source": [
    "a[0:]"
   ]
  },
  {
   "cell_type": "code",
   "execution_count": 8,
   "id": "e01444a4-2329-43c9-b0ab-333fab61b506",
   "metadata": {},
   "outputs": [
    {
     "data": {
      "text/plain": [
       "array([33, 44])"
      ]
     },
     "execution_count": 8,
     "metadata": {},
     "output_type": "execute_result"
    }
   ],
   "source": [
    "a[2:4]"
   ]
  },
  {
   "cell_type": "code",
   "execution_count": 9,
   "id": "069a7db1-c74a-455b-943b-4867608afbc0",
   "metadata": {},
   "outputs": [
    {
     "data": {
      "text/plain": [
       "array([55, 44, 33, 22, 11])"
      ]
     },
     "execution_count": 9,
     "metadata": {},
     "output_type": "execute_result"
    }
   ],
   "source": [
    "a[::-1]"
   ]
  },
  {
   "cell_type": "code",
   "execution_count": 13,
   "id": "00eb71ee-3085-4753-9ca7-bdf7decd2b17",
   "metadata": {},
   "outputs": [
    {
     "data": {
      "text/plain": [
       "array([55, 44])"
      ]
     },
     "execution_count": 13,
     "metadata": {},
     "output_type": "execute_result"
    }
   ],
   "source": [
    "a[4:2:-1]"
   ]
  },
  {
   "cell_type": "code",
   "execution_count": 6,
   "id": "b82923d3-cb76-4922-84e8-742e26e5c009",
   "metadata": {},
   "outputs": [
    {
     "data": {
      "text/plain": [
       "array([5])"
      ]
     },
     "execution_count": 6,
     "metadata": {},
     "output_type": "execute_result"
    }
   ],
   "source": [
    "import numpy as np\n",
    "c=np.array([3,4,5,6,7])\n",
    "c[[2]]"
   ]
  },
  {
   "cell_type": "code",
   "execution_count": 8,
   "id": "e263e2e2-aa7f-4680-93b4-654a701e273d",
   "metadata": {},
   "outputs": [
    {
     "data": {
      "text/plain": [
       "np.int64(5)"
      ]
     },
     "execution_count": 8,
     "metadata": {},
     "output_type": "execute_result"
    }
   ],
   "source": [
    "c[2]"
   ]
  },
  {
   "cell_type": "code",
   "execution_count": 11,
   "id": "0bc1fef3-0541-463c-b1c8-ce077de15e35",
   "metadata": {},
   "outputs": [],
   "source": [
    "import pandas as pd\n",
    "dj=pd.Series([1.2,3.4,5.6,7.8,9.0])"
   ]
  },
  {
   "cell_type": "code",
   "execution_count": 12,
   "id": "c3e6af90-e601-49e0-9257-9e675ae0433a",
   "metadata": {},
   "outputs": [
    {
     "data": {
      "text/plain": [
       "0    1.2\n",
       "1    3.4\n",
       "2    5.6\n",
       "3    7.8\n",
       "4    9.0\n",
       "dtype: float64"
      ]
     },
     "execution_count": 12,
     "metadata": {},
     "output_type": "execute_result"
    }
   ],
   "source": [
    "dj"
   ]
  },
  {
   "cell_type": "code",
   "execution_count": 13,
   "id": "33022f50-47a6-4589-a419-1f4f12f6cdd3",
   "metadata": {},
   "outputs": [
    {
     "name": "stdout",
     "output_type": "stream",
     "text": [
      "0    1.2\n",
      "1    3.4\n",
      "2    5.6\n",
      "3    7.8\n",
      "4    9.0\n",
      "dtype: float64\n"
     ]
    }
   ],
   "source": [
    "print(dj)"
   ]
  },
  {
   "cell_type": "code",
   "execution_count": 14,
   "id": "eba54cd2-5e50-49b9-a0a8-4d08626d2abb",
   "metadata": {},
   "outputs": [
    {
     "data": {
      "text/plain": [
       "dtype('float64')"
      ]
     },
     "execution_count": 14,
     "metadata": {},
     "output_type": "execute_result"
    }
   ],
   "source": [
    "dj.dtype"
   ]
  },
  {
   "cell_type": "code",
   "execution_count": 15,
   "id": "6bc9b70a-f0fb-4006-a2fc-1b2117d427a6",
   "metadata": {},
   "outputs": [
    {
     "data": {
      "text/plain": [
       "array([1.2, 3.4, 5.6, 7.8, 9. ])"
      ]
     },
     "execution_count": 15,
     "metadata": {},
     "output_type": "execute_result"
    }
   ],
   "source": [
    "dj.values"
   ]
  },
  {
   "cell_type": "code",
   "execution_count": 16,
   "id": "ab6fe418-316c-45c3-8b47-93f0c8a85ad1",
   "metadata": {},
   "outputs": [
    {
     "data": {
      "text/plain": [
       "numpy.ndarray"
      ]
     },
     "execution_count": 16,
     "metadata": {},
     "output_type": "execute_result"
    }
   ],
   "source": [
    "type(dj.values)"
   ]
  },
  {
   "cell_type": "code",
   "execution_count": 18,
   "id": "973ac753-82c5-4626-80f2-e1a80c4a032c",
   "metadata": {},
   "outputs": [
    {
     "data": {
      "text/plain": [
       "np.float64(3.4)"
      ]
     },
     "execution_count": 18,
     "metadata": {},
     "output_type": "execute_result"
    }
   ],
   "source": [
    "dj.pop(1)"
   ]
  },
  {
   "cell_type": "code",
   "execution_count": 19,
   "id": "96aa9d02-abfe-4282-8b86-02250ba7263d",
   "metadata": {},
   "outputs": [
    {
     "data": {
      "text/plain": [
       "0    1.2\n",
       "2    5.6\n",
       "3    7.8\n",
       "4    9.0\n",
       "dtype: float64"
      ]
     },
     "execution_count": 19,
     "metadata": {},
     "output_type": "execute_result"
    }
   ],
   "source": [
    "dj"
   ]
  },
  {
   "cell_type": "code",
   "execution_count": 21,
   "id": "5982baf5-a5e1-407a-9fe9-b9a2161cab64",
   "metadata": {},
   "outputs": [
    {
     "data": {
      "text/plain": [
       "Index([0, 2, 3, 4], dtype='int64')"
      ]
     },
     "execution_count": 21,
     "metadata": {},
     "output_type": "execute_result"
    }
   ],
   "source": [
    "dj.index"
   ]
  },
  {
   "cell_type": "code",
   "execution_count": 25,
   "id": "32575a5a-4a08-44d2-821d-83c6aa6d516d",
   "metadata": {},
   "outputs": [],
   "source": [
    "dj.index=[\n",
    "    'a',\n",
    "    'b',\n",
    "    'c',\n",
    "    'd'\n",
    "]"
   ]
  },
  {
   "cell_type": "code",
   "execution_count": 26,
   "id": "aa0a9182-7e0c-42a7-8e06-b87b15ea46dc",
   "metadata": {},
   "outputs": [
    {
     "data": {
      "text/plain": [
       "a    1.2\n",
       "b    5.6\n",
       "c    7.8\n",
       "d    9.0\n",
       "dtype: float64"
      ]
     },
     "execution_count": 26,
     "metadata": {},
     "output_type": "execute_result"
    }
   ],
   "source": [
    "dj"
   ]
  },
  {
   "cell_type": "code",
   "execution_count": 32,
   "id": "ff786083-2ceb-41ae-a27a-5745f45d0a70",
   "metadata": {},
   "outputs": [
    {
     "data": {
      "text/plain": [
       "np.float64(5.6)"
      ]
     },
     "execution_count": 32,
     "metadata": {},
     "output_type": "execute_result"
    }
   ],
   "source": [
    "dj.pop('b')"
   ]
  },
  {
   "cell_type": "code",
   "execution_count": 33,
   "id": "dc6d5974-8a2b-4d55-a559-5992a171ba44",
   "metadata": {},
   "outputs": [
    {
     "data": {
      "text/plain": [
       "a    1.2\n",
       "c    7.8\n",
       "d    9.0\n",
       "dtype: float64"
      ]
     },
     "execution_count": 33,
     "metadata": {},
     "output_type": "execute_result"
    }
   ],
   "source": [
    "dj"
   ]
  },
  {
   "cell_type": "code",
   "execution_count": 34,
   "id": "7622ca2a-05d0-4e3a-b505-5595ae780a44",
   "metadata": {},
   "outputs": [
    {
     "data": {
      "text/plain": [
       "np.float64(1.2)"
      ]
     },
     "execution_count": 34,
     "metadata": {},
     "output_type": "execute_result"
    }
   ],
   "source": [
    "dj.iloc[0]"
   ]
  },
  {
   "cell_type": "code",
   "execution_count": 36,
   "id": "09bec15a-3519-4f8e-bf13-b70d8637e410",
   "metadata": {},
   "outputs": [
    {
     "data": {
      "text/plain": [
       "np.float64(9.0)"
      ]
     },
     "execution_count": 36,
     "metadata": {},
     "output_type": "execute_result"
    }
   ],
   "source": [
    "dj.iloc[-1]"
   ]
  },
  {
   "cell_type": "code",
   "execution_count": 39,
   "id": "b45b4167-0052-41b6-9252-3afde776cbd5",
   "metadata": {},
   "outputs": [
    {
     "data": {
      "text/plain": [
       "a    12000000.0\n",
       "c    78000000.0\n",
       "d    90000000.0\n",
       "dtype: float64"
      ]
     },
     "execution_count": 39,
     "metadata": {},
     "output_type": "execute_result"
    }
   ],
   "source": [
    "dj * 1_000_000_0"
   ]
  },
  {
   "cell_type": "code",
   "execution_count": 40,
   "id": "773733c2-82aa-489a-bd41-9cdc3a1ba9cb",
   "metadata": {},
   "outputs": [
    {
     "data": {
      "text/plain": [
       "a    False\n",
       "c     True\n",
       "d     True\n",
       "dtype: bool"
      ]
     },
     "execution_count": 40,
     "metadata": {},
     "output_type": "execute_result"
    }
   ],
   "source": [
    "dj>=5.5"
   ]
  },
  {
   "cell_type": "code",
   "execution_count": 41,
   "id": "5bbb4754-204c-44f7-b2a3-5205ffb6a22e",
   "metadata": {},
   "outputs": [
    {
     "data": {
      "text/plain": [
       "c    7.8\n",
       "d    9.0\n",
       "dtype: float64"
      ]
     },
     "execution_count": 41,
     "metadata": {},
     "output_type": "execute_result"
    }
   ],
   "source": [
    "dj[dj>=5.5]"
   ]
  },
  {
   "cell_type": "code",
   "execution_count": 42,
   "id": "548bae03-403d-489e-bf0a-045d71ccbcbc",
   "metadata": {},
   "outputs": [],
   "source": [
    "dg=pd.DataFrame({\n",
    "    'Population':[23,54,34,43],\n",
    "    'GDP':[2345653,3456359,3546345,3345690],\n",
    "    'Surface Area':[8576,6985,3468,9575],\n",
    "    'HDI':[0.913,0.888,0.916,0.873],\n",
    "    'Continent':['Africa','India','America','England']\n",
    "},columns=['Population','GDP','Surface Area','HDI','Continent'])"
   ]
  },
  {
   "cell_type": "code",
   "execution_count": 43,
   "id": "3f08111c-7a81-43ee-8476-facf9eaca910",
   "metadata": {},
   "outputs": [],
   "source": [
    "dg.index=['Mauritius','Gujarat','Indianapolis','London']"
   ]
  },
  {
   "cell_type": "code",
   "execution_count": 44,
   "id": "a3803efb-6d30-4c32-b08a-4b6ea59bfaab",
   "metadata": {},
   "outputs": [
    {
     "data": {
      "text/html": [
       "<div>\n",
       "<style scoped>\n",
       "    .dataframe tbody tr th:only-of-type {\n",
       "        vertical-align: middle;\n",
       "    }\n",
       "\n",
       "    .dataframe tbody tr th {\n",
       "        vertical-align: top;\n",
       "    }\n",
       "\n",
       "    .dataframe thead th {\n",
       "        text-align: right;\n",
       "    }\n",
       "</style>\n",
       "<table border=\"1\" class=\"dataframe\">\n",
       "  <thead>\n",
       "    <tr style=\"text-align: right;\">\n",
       "      <th></th>\n",
       "      <th>Population</th>\n",
       "      <th>GDP</th>\n",
       "      <th>Surface Area</th>\n",
       "      <th>HDI</th>\n",
       "      <th>Continent</th>\n",
       "    </tr>\n",
       "  </thead>\n",
       "  <tbody>\n",
       "    <tr>\n",
       "      <th>Mauritius</th>\n",
       "      <td>23</td>\n",
       "      <td>2345653</td>\n",
       "      <td>8576</td>\n",
       "      <td>0.913</td>\n",
       "      <td>Africa</td>\n",
       "    </tr>\n",
       "    <tr>\n",
       "      <th>Gujarat</th>\n",
       "      <td>54</td>\n",
       "      <td>3456359</td>\n",
       "      <td>6985</td>\n",
       "      <td>0.888</td>\n",
       "      <td>India</td>\n",
       "    </tr>\n",
       "    <tr>\n",
       "      <th>Indianapolis</th>\n",
       "      <td>34</td>\n",
       "      <td>3546345</td>\n",
       "      <td>3468</td>\n",
       "      <td>0.916</td>\n",
       "      <td>America</td>\n",
       "    </tr>\n",
       "    <tr>\n",
       "      <th>London</th>\n",
       "      <td>43</td>\n",
       "      <td>3345690</td>\n",
       "      <td>9575</td>\n",
       "      <td>0.873</td>\n",
       "      <td>England</td>\n",
       "    </tr>\n",
       "  </tbody>\n",
       "</table>\n",
       "</div>"
      ],
      "text/plain": [
       "              Population      GDP  Surface Area    HDI Continent\n",
       "Mauritius             23  2345653          8576  0.913    Africa\n",
       "Gujarat               54  3456359          6985  0.888     India\n",
       "Indianapolis          34  3546345          3468  0.916   America\n",
       "London                43  3345690          9575  0.873   England"
      ]
     },
     "execution_count": 44,
     "metadata": {},
     "output_type": "execute_result"
    }
   ],
   "source": [
    "dg"
   ]
  },
  {
   "cell_type": "code",
   "execution_count": 47,
   "id": "003025b1-b808-42d2-b9cf-09d92b2d6fec",
   "metadata": {},
   "outputs": [
    {
     "data": {
      "text/html": [
       "<div>\n",
       "<style scoped>\n",
       "    .dataframe tbody tr th:only-of-type {\n",
       "        vertical-align: middle;\n",
       "    }\n",
       "\n",
       "    .dataframe tbody tr th {\n",
       "        vertical-align: top;\n",
       "    }\n",
       "\n",
       "    .dataframe thead th {\n",
       "        text-align: right;\n",
       "    }\n",
       "</style>\n",
       "<table border=\"1\" class=\"dataframe\">\n",
       "  <thead>\n",
       "    <tr style=\"text-align: right;\">\n",
       "      <th></th>\n",
       "      <th>Population</th>\n",
       "      <th>GDP</th>\n",
       "      <th>Surface Area</th>\n",
       "      <th>HDI</th>\n",
       "      <th>Continent</th>\n",
       "    </tr>\n",
       "  </thead>\n",
       "  <tbody>\n",
       "    <tr>\n",
       "      <th>Gujarat</th>\n",
       "      <td>54</td>\n",
       "      <td>3456359</td>\n",
       "      <td>6985</td>\n",
       "      <td>0.888</td>\n",
       "      <td>India</td>\n",
       "    </tr>\n",
       "    <tr>\n",
       "      <th>Indianapolis</th>\n",
       "      <td>34</td>\n",
       "      <td>3546345</td>\n",
       "      <td>3468</td>\n",
       "      <td>0.916</td>\n",
       "      <td>America</td>\n",
       "    </tr>\n",
       "    <tr>\n",
       "      <th>London</th>\n",
       "      <td>43</td>\n",
       "      <td>3345690</td>\n",
       "      <td>9575</td>\n",
       "      <td>0.873</td>\n",
       "      <td>England</td>\n",
       "    </tr>\n",
       "  </tbody>\n",
       "</table>\n",
       "</div>"
      ],
      "text/plain": [
       "              Population      GDP  Surface Area    HDI Continent\n",
       "Gujarat               54  3456359          6985  0.888     India\n",
       "Indianapolis          34  3546345          3468  0.916   America\n",
       "London                43  3345690          9575  0.873   England"
      ]
     },
     "execution_count": 47,
     "metadata": {},
     "output_type": "execute_result"
    }
   ],
   "source": [
    "dg.drop('Mauritius')"
   ]
  },
  {
   "cell_type": "code",
   "execution_count": 48,
   "id": "53f868f6-fb82-48a0-9ab4-52933f252c65",
   "metadata": {},
   "outputs": [
    {
     "data": {
      "text/html": [
       "<div>\n",
       "<style scoped>\n",
       "    .dataframe tbody tr th:only-of-type {\n",
       "        vertical-align: middle;\n",
       "    }\n",
       "\n",
       "    .dataframe tbody tr th {\n",
       "        vertical-align: top;\n",
       "    }\n",
       "\n",
       "    .dataframe thead th {\n",
       "        text-align: right;\n",
       "    }\n",
       "</style>\n",
       "<table border=\"1\" class=\"dataframe\">\n",
       "  <thead>\n",
       "    <tr style=\"text-align: right;\">\n",
       "      <th></th>\n",
       "      <th>Population</th>\n",
       "      <th>GDP</th>\n",
       "      <th>Surface Area</th>\n",
       "      <th>HDI</th>\n",
       "      <th>Continent</th>\n",
       "    </tr>\n",
       "  </thead>\n",
       "  <tbody>\n",
       "    <tr>\n",
       "      <th>Mauritius</th>\n",
       "      <td>23</td>\n",
       "      <td>2345653</td>\n",
       "      <td>8576</td>\n",
       "      <td>0.913</td>\n",
       "      <td>Africa</td>\n",
       "    </tr>\n",
       "    <tr>\n",
       "      <th>Gujarat</th>\n",
       "      <td>54</td>\n",
       "      <td>3456359</td>\n",
       "      <td>6985</td>\n",
       "      <td>0.888</td>\n",
       "      <td>India</td>\n",
       "    </tr>\n",
       "    <tr>\n",
       "      <th>Indianapolis</th>\n",
       "      <td>34</td>\n",
       "      <td>3546345</td>\n",
       "      <td>3468</td>\n",
       "      <td>0.916</td>\n",
       "      <td>America</td>\n",
       "    </tr>\n",
       "    <tr>\n",
       "      <th>London</th>\n",
       "      <td>43</td>\n",
       "      <td>3345690</td>\n",
       "      <td>9575</td>\n",
       "      <td>0.873</td>\n",
       "      <td>England</td>\n",
       "    </tr>\n",
       "  </tbody>\n",
       "</table>\n",
       "</div>"
      ],
      "text/plain": [
       "              Population      GDP  Surface Area    HDI Continent\n",
       "Mauritius             23  2345653          8576  0.913    Africa\n",
       "Gujarat               54  3456359          6985  0.888     India\n",
       "Indianapolis          34  3546345          3468  0.916   America\n",
       "London                43  3345690          9575  0.873   England"
      ]
     },
     "execution_count": 48,
     "metadata": {},
     "output_type": "execute_result"
    }
   ],
   "source": [
    "dg"
   ]
  },
  {
   "cell_type": "code",
   "execution_count": 49,
   "id": "9dd2415d-8ad2-4424-9496-8f21e2b95b2c",
   "metadata": {},
   "outputs": [],
   "source": [
    "lang=pd.Series(\n",
    "    ['African','Gujarati','A. English','B. English'],\n",
    "    index=['Mauritius','Gujarat','Indianapolis','London'],\n",
    "    name='Language'\n",
    ")"
   ]
  },
  {
   "cell_type": "code",
   "execution_count": 50,
   "id": "926a27e6-df3e-40b5-a0a9-bf8b6829cccb",
   "metadata": {},
   "outputs": [
    {
     "data": {
      "text/html": [
       "<div>\n",
       "<style scoped>\n",
       "    .dataframe tbody tr th:only-of-type {\n",
       "        vertical-align: middle;\n",
       "    }\n",
       "\n",
       "    .dataframe tbody tr th {\n",
       "        vertical-align: top;\n",
       "    }\n",
       "\n",
       "    .dataframe thead th {\n",
       "        text-align: right;\n",
       "    }\n",
       "</style>\n",
       "<table border=\"1\" class=\"dataframe\">\n",
       "  <thead>\n",
       "    <tr style=\"text-align: right;\">\n",
       "      <th></th>\n",
       "      <th>Population</th>\n",
       "      <th>GDP</th>\n",
       "      <th>Surface Area</th>\n",
       "      <th>HDI</th>\n",
       "      <th>Continent</th>\n",
       "    </tr>\n",
       "  </thead>\n",
       "  <tbody>\n",
       "    <tr>\n",
       "      <th>Mauritius</th>\n",
       "      <td>23</td>\n",
       "      <td>2345653</td>\n",
       "      <td>8576</td>\n",
       "      <td>0.913</td>\n",
       "      <td>Africa</td>\n",
       "    </tr>\n",
       "    <tr>\n",
       "      <th>Gujarat</th>\n",
       "      <td>54</td>\n",
       "      <td>3456359</td>\n",
       "      <td>6985</td>\n",
       "      <td>0.888</td>\n",
       "      <td>India</td>\n",
       "    </tr>\n",
       "    <tr>\n",
       "      <th>Indianapolis</th>\n",
       "      <td>34</td>\n",
       "      <td>3546345</td>\n",
       "      <td>3468</td>\n",
       "      <td>0.916</td>\n",
       "      <td>America</td>\n",
       "    </tr>\n",
       "    <tr>\n",
       "      <th>London</th>\n",
       "      <td>43</td>\n",
       "      <td>3345690</td>\n",
       "      <td>9575</td>\n",
       "      <td>0.873</td>\n",
       "      <td>England</td>\n",
       "    </tr>\n",
       "  </tbody>\n",
       "</table>\n",
       "</div>"
      ],
      "text/plain": [
       "              Population      GDP  Surface Area    HDI Continent\n",
       "Mauritius             23  2345653          8576  0.913    Africa\n",
       "Gujarat               54  3456359          6985  0.888     India\n",
       "Indianapolis          34  3546345          3468  0.916   America\n",
       "London                43  3345690          9575  0.873   England"
      ]
     },
     "execution_count": 50,
     "metadata": {},
     "output_type": "execute_result"
    }
   ],
   "source": [
    "dg"
   ]
  },
  {
   "cell_type": "code",
   "execution_count": 51,
   "id": "422b5ebe-a8ad-41d4-a601-f64c8fb7fdac",
   "metadata": {},
   "outputs": [],
   "source": [
    "dg['Language']=lang"
   ]
  },
  {
   "cell_type": "code",
   "execution_count": 52,
   "id": "e792716c-014d-4205-9052-a4f541821b2c",
   "metadata": {},
   "outputs": [
    {
     "data": {
      "text/html": [
       "<div>\n",
       "<style scoped>\n",
       "    .dataframe tbody tr th:only-of-type {\n",
       "        vertical-align: middle;\n",
       "    }\n",
       "\n",
       "    .dataframe tbody tr th {\n",
       "        vertical-align: top;\n",
       "    }\n",
       "\n",
       "    .dataframe thead th {\n",
       "        text-align: right;\n",
       "    }\n",
       "</style>\n",
       "<table border=\"1\" class=\"dataframe\">\n",
       "  <thead>\n",
       "    <tr style=\"text-align: right;\">\n",
       "      <th></th>\n",
       "      <th>Population</th>\n",
       "      <th>GDP</th>\n",
       "      <th>Surface Area</th>\n",
       "      <th>HDI</th>\n",
       "      <th>Continent</th>\n",
       "      <th>Language</th>\n",
       "    </tr>\n",
       "  </thead>\n",
       "  <tbody>\n",
       "    <tr>\n",
       "      <th>Mauritius</th>\n",
       "      <td>23</td>\n",
       "      <td>2345653</td>\n",
       "      <td>8576</td>\n",
       "      <td>0.913</td>\n",
       "      <td>Africa</td>\n",
       "      <td>African</td>\n",
       "    </tr>\n",
       "    <tr>\n",
       "      <th>Gujarat</th>\n",
       "      <td>54</td>\n",
       "      <td>3456359</td>\n",
       "      <td>6985</td>\n",
       "      <td>0.888</td>\n",
       "      <td>India</td>\n",
       "      <td>Gujarati</td>\n",
       "    </tr>\n",
       "    <tr>\n",
       "      <th>Indianapolis</th>\n",
       "      <td>34</td>\n",
       "      <td>3546345</td>\n",
       "      <td>3468</td>\n",
       "      <td>0.916</td>\n",
       "      <td>America</td>\n",
       "      <td>A. English</td>\n",
       "    </tr>\n",
       "    <tr>\n",
       "      <th>London</th>\n",
       "      <td>43</td>\n",
       "      <td>3345690</td>\n",
       "      <td>9575</td>\n",
       "      <td>0.873</td>\n",
       "      <td>England</td>\n",
       "      <td>B. English</td>\n",
       "    </tr>\n",
       "  </tbody>\n",
       "</table>\n",
       "</div>"
      ],
      "text/plain": [
       "              Population      GDP  Surface Area    HDI Continent    Language\n",
       "Mauritius             23  2345653          8576  0.913    Africa     African\n",
       "Gujarat               54  3456359          6985  0.888     India    Gujarati\n",
       "Indianapolis          34  3546345          3468  0.916   America  A. English\n",
       "London                43  3345690          9575  0.873   England  B. English"
      ]
     },
     "execution_count": 52,
     "metadata": {},
     "output_type": "execute_result"
    }
   ],
   "source": [
    "dg"
   ]
  },
  {
   "cell_type": "code",
   "execution_count": 53,
   "id": "390bb103-90ec-4a6b-9e55-6be652874353",
   "metadata": {},
   "outputs": [
    {
     "data": {
      "text/plain": [
       "Mauritius          African\n",
       "Gujarat           Gujarati\n",
       "Indianapolis    A. English\n",
       "London          B. English\n",
       "Name: Language, dtype: object"
      ]
     },
     "execution_count": 53,
     "metadata": {},
     "output_type": "execute_result"
    }
   ],
   "source": [
    "lang"
   ]
  },
  {
   "cell_type": "code",
   "execution_count": 54,
   "id": "dab6a110-2c00-4b47-920f-de9e94053c97",
   "metadata": {},
   "outputs": [
    {
     "data": {
      "text/html": [
       "<div>\n",
       "<style scoped>\n",
       "    .dataframe tbody tr th:only-of-type {\n",
       "        vertical-align: middle;\n",
       "    }\n",
       "\n",
       "    .dataframe tbody tr th {\n",
       "        vertical-align: top;\n",
       "    }\n",
       "\n",
       "    .dataframe thead th {\n",
       "        text-align: right;\n",
       "    }\n",
       "</style>\n",
       "<table border=\"1\" class=\"dataframe\">\n",
       "  <thead>\n",
       "    <tr style=\"text-align: right;\">\n",
       "      <th></th>\n",
       "      <th>Population</th>\n",
       "      <th>GDP</th>\n",
       "      <th>Surface Area</th>\n",
       "      <th>Human Development Index</th>\n",
       "      <th>Continent</th>\n",
       "      <th>Language</th>\n",
       "    </tr>\n",
       "  </thead>\n",
       "  <tbody>\n",
       "    <tr>\n",
       "      <th>Mauritius</th>\n",
       "      <td>23</td>\n",
       "      <td>2345653</td>\n",
       "      <td>8576</td>\n",
       "      <td>0.913</td>\n",
       "      <td>Africa</td>\n",
       "      <td>African</td>\n",
       "    </tr>\n",
       "    <tr>\n",
       "      <th>Goa</th>\n",
       "      <td>54</td>\n",
       "      <td>3456359</td>\n",
       "      <td>6985</td>\n",
       "      <td>0.888</td>\n",
       "      <td>India</td>\n",
       "      <td>Gujarati</td>\n",
       "    </tr>\n",
       "    <tr>\n",
       "      <th>Indianapolis</th>\n",
       "      <td>34</td>\n",
       "      <td>3546345</td>\n",
       "      <td>3468</td>\n",
       "      <td>0.916</td>\n",
       "      <td>America</td>\n",
       "      <td>A. English</td>\n",
       "    </tr>\n",
       "    <tr>\n",
       "      <th>Britain</th>\n",
       "      <td>43</td>\n",
       "      <td>3345690</td>\n",
       "      <td>9575</td>\n",
       "      <td>0.873</td>\n",
       "      <td>England</td>\n",
       "      <td>B. English</td>\n",
       "    </tr>\n",
       "  </tbody>\n",
       "</table>\n",
       "</div>"
      ],
      "text/plain": [
       "              Population      GDP  Surface Area  Human Development Index  \\\n",
       "Mauritius             23  2345653          8576                    0.913   \n",
       "Goa                   54  3456359          6985                    0.888   \n",
       "Indianapolis          34  3546345          3468                    0.916   \n",
       "Britain               43  3345690          9575                    0.873   \n",
       "\n",
       "             Continent    Language  \n",
       "Mauritius       Africa     African  \n",
       "Goa              India    Gujarati  \n",
       "Indianapolis   America  A. English  \n",
       "Britain        England  B. English  "
      ]
     },
     "execution_count": 54,
     "metadata": {},
     "output_type": "execute_result"
    }
   ],
   "source": [
    "dg.rename(\n",
    "    columns={\n",
    "        'HDI':'Human Development Index',\n",
    "        'AG':'Aggregate Gross'\n",
    "    },index={\n",
    "        'Gujarat':'Goa',\n",
    "        'London':'Britain'\n",
    "    }\n",
    ")"
   ]
  },
  {
   "cell_type": "code",
   "execution_count": 56,
   "id": "e54cc144-2c25-47cf-8b28-023dafeae7b9",
   "metadata": {},
   "outputs": [
    {
     "data": {
      "text/html": [
       "<div>\n",
       "<style scoped>\n",
       "    .dataframe tbody tr th:only-of-type {\n",
       "        vertical-align: middle;\n",
       "    }\n",
       "\n",
       "    .dataframe tbody tr th {\n",
       "        vertical-align: top;\n",
       "    }\n",
       "\n",
       "    .dataframe thead th {\n",
       "        text-align: right;\n",
       "    }\n",
       "</style>\n",
       "<table border=\"1\" class=\"dataframe\">\n",
       "  <thead>\n",
       "    <tr style=\"text-align: right;\">\n",
       "      <th></th>\n",
       "      <th>Population</th>\n",
       "      <th>GDP</th>\n",
       "      <th>Surface Area</th>\n",
       "      <th>HDI</th>\n",
       "      <th>Continent</th>\n",
       "      <th>Language</th>\n",
       "    </tr>\n",
       "  </thead>\n",
       "  <tbody>\n",
       "    <tr>\n",
       "      <th>Mauritius</th>\n",
       "      <td>23</td>\n",
       "      <td>2345653</td>\n",
       "      <td>8576</td>\n",
       "      <td>0.913</td>\n",
       "      <td>Africa</td>\n",
       "      <td>African</td>\n",
       "    </tr>\n",
       "    <tr>\n",
       "      <th>Gujarat</th>\n",
       "      <td>54</td>\n",
       "      <td>3456359</td>\n",
       "      <td>6985</td>\n",
       "      <td>0.888</td>\n",
       "      <td>India</td>\n",
       "      <td>Gujarati</td>\n",
       "    </tr>\n",
       "    <tr>\n",
       "      <th>Indianapolis</th>\n",
       "      <td>34</td>\n",
       "      <td>3546345</td>\n",
       "      <td>3468</td>\n",
       "      <td>0.916</td>\n",
       "      <td>America</td>\n",
       "      <td>A. English</td>\n",
       "    </tr>\n",
       "    <tr>\n",
       "      <th>London</th>\n",
       "      <td>43</td>\n",
       "      <td>3345690</td>\n",
       "      <td>9575</td>\n",
       "      <td>0.873</td>\n",
       "      <td>England</td>\n",
       "      <td>B. English</td>\n",
       "    </tr>\n",
       "  </tbody>\n",
       "</table>\n",
       "</div>"
      ],
      "text/plain": [
       "              Population      GDP  Surface Area    HDI Continent    Language\n",
       "Mauritius             23  2345653          8576  0.913    Africa     African\n",
       "Gujarat               54  3456359          6985  0.888     India    Gujarati\n",
       "Indianapolis          34  3546345          3468  0.916   America  A. English\n",
       "London                43  3345690          9575  0.873   England  B. English"
      ]
     },
     "execution_count": 56,
     "metadata": {},
     "output_type": "execute_result"
    }
   ],
   "source": [
    "dg"
   ]
  },
  {
   "cell_type": "code",
   "execution_count": 58,
   "id": "0734f3e8-1f4d-436a-9b36-56a7ca72aa4b",
   "metadata": {},
   "outputs": [
    {
     "data": {
      "text/plain": [
       "Mauritius       101984.913043\n",
       "Gujarat          64006.648148\n",
       "Indianapolis    104304.264706\n",
       "London           77806.744186\n",
       "dtype: float64"
      ]
     },
     "execution_count": 58,
     "metadata": {},
     "output_type": "execute_result"
    }
   ],
   "source": [
    "dg['GDP']/dg['Population']"
   ]
  },
  {
   "cell_type": "code",
   "execution_count": 62,
   "id": "41f429c3-6300-44b6-918b-1560576af284",
   "metadata": {},
   "outputs": [
    {
     "data": {
      "text/plain": [
       "<Axes: >"
      ]
     },
     "execution_count": 62,
     "metadata": {},
     "output_type": "execute_result"
    },
    {
     "data": {
      "image/png": "[encoded data removed]",
      "text/plain": [
       "<Figure size 640x480 with 1 Axes>"
      ]
     },
     "metadata": {},
     "output_type": "display_data"
    }
   ],
   "source": [
    "dg.plot()"
   ]
  },
  {
   "cell_type": "code",
   "execution_count": 63,
   "id": "92841609-5962-49c1-b3b5-02dbb143fba2",
   "metadata": {},
   "outputs": [
    {
     "data": {
      "text/plain": [
       "<Axes: xlabel='Population'>"
      ]
     },
     "execution_count": 63,
     "metadata": {},
     "output_type": "execute_result"
    },
    {
     "data": {
      "image/png": "[encoded data removed]",
      "text/plain": [
       "<Figure size 640x480 with 1 Axes>"
      ]
     },
     "metadata": {},
     "output_type": "display_data"
    }
   ],
   "source": [
    "dg.plot('Population')"
   ]
  },
  {
   "cell_type": "code",
   "execution_count": 69,
   "id": "3eb3ea53-59d5-4803-9087-642895e5f0bf",
   "metadata": {},
   "outputs": [],
   "source": [
    "import matplotlib.pyplot as plt"
   ]
  },
  {
   "cell_type": "code",
   "execution_count": 70,
   "id": "02b00961-7991-4ff7-a0c4-bfb3c4de73b8",
   "metadata": {},
   "outputs": [
    {
     "data": {
      "text/plain": [
       "[<matplotlib.lines.Line2D at 0x11f92d6d310>]"
      ]
     },
     "execution_count": 70,
     "metadata": {},
     "output_type": "execute_result"
    },
    {
     "data": {
      "image/png": "[encoded data removed]",
      "text/plain": [
       "<Figure size 640x480 with 1 Axes>"
      ]
     },
     "metadata": {},
     "output_type": "display_data"
    }
   ],
   "source": [
    "plt.plot(dg['Population'])"
   ]
  },
  {
   "cell_type": "code",
   "execution_count": 71,
   "id": "5790ad28-6363-4fa7-927c-1a996678da00",
   "metadata": {},
   "outputs": [
    {
     "data": {
      "text/plain": [
       "[<matplotlib.lines.Line2D at 0x11f92d99950>]"
      ]
     },
     "execution_count": 71,
     "metadata": {},
     "output_type": "execute_result"
    },
    {
     "data": {
      "image/png": "[encoded data removed]",
      "text/plain": [
       "<Figure size 640x480 with 1 Axes>"
      ]
     },
     "metadata": {},
     "output_type": "display_data"
    }
   ],
   "source": [
    "plt.plot(dg.index)"
   ]
  },
  {
   "cell_type": "code",
   "execution_count": 73,
   "id": "67d93edc-8651-4c7c-9edc-1fcccf3fcebc",
   "metadata": {},
   "outputs": [
    {
     "data": {
      "text/plain": [
       "[<matplotlib.lines.Line2D at 0x11f946c02d0>]"
      ]
     },
     "execution_count": 73,
     "metadata": {},
     "output_type": "execute_result"
    },
    {
     "data": {
      "image/png": "[encoded data removed]",
      "text/plain": [
       "<Figure size 640x480 with 1 Axes>"
      ]
     },
     "metadata": {},
     "output_type": "display_data"
    }
   ],
   "source": [
    "plt.plot(dg.index,dg['GDP'])"
   ]
  },
  {
   "cell_type": "code",
   "execution_count": 74,
   "id": "6e6e5671-12ee-45d3-9318-e919fe22e3fa",
   "metadata": {},
   "outputs": [
    {
     "data": {
      "text/plain": [
       "Index(['Population', 'GDP', 'Surface Area', 'HDI', 'Continent', 'Language'], dtype='object')"
      ]
     },
     "execution_count": 74,
     "metadata": {},
     "output_type": "execute_result"
    }
   ],
   "source": [
    "dg.columns"
   ]
  },
  {
   "cell_type": "code",
   "execution_count": 75,
   "id": "7bbf9cd4-fc90-47b7-8ffd-63277670e73d",
   "metadata": {},
   "outputs": [],
   "source": [
    "dg['Per Capita Income']=dg['GDP']/dg['Population']"
   ]
  },
  {
   "cell_type": "code",
   "execution_count": 76,
   "id": "b6a96c9d-42cf-4c56-b2b4-c7202f4d4cd9",
   "metadata": {},
   "outputs": [
    {
     "data": {
      "text/plain": [
       "Mauritius       101984.913043\n",
       "Gujarat          64006.648148\n",
       "Indianapolis    104304.264706\n",
       "London           77806.744186\n",
       "Name: Per Capita Income, dtype: float64"
      ]
     },
     "execution_count": 76,
     "metadata": {},
     "output_type": "execute_result"
    }
   ],
   "source": [
    "dg['Per Capita Income']"
   ]
  },
  {
   "cell_type": "code",
   "execution_count": 77,
   "id": "1f987450-4baf-4507-950a-e60b66fddebd",
   "metadata": {},
   "outputs": [
    {
     "data": {
      "text/html": [
       "<div>\n",
       "<style scoped>\n",
       "    .dataframe tbody tr th:only-of-type {\n",
       "        vertical-align: middle;\n",
       "    }\n",
       "\n",
       "    .dataframe tbody tr th {\n",
       "        vertical-align: top;\n",
       "    }\n",
       "\n",
       "    .dataframe thead th {\n",
       "        text-align: right;\n",
       "    }\n",
       "</style>\n",
       "<table border=\"1\" class=\"dataframe\">\n",
       "  <thead>\n",
       "    <tr style=\"text-align: right;\">\n",
       "      <th></th>\n",
       "      <th>Population</th>\n",
       "      <th>GDP</th>\n",
       "      <th>Surface Area</th>\n",
       "      <th>HDI</th>\n",
       "      <th>Continent</th>\n",
       "      <th>Language</th>\n",
       "      <th>Per Capita Income</th>\n",
       "    </tr>\n",
       "  </thead>\n",
       "  <tbody>\n",
       "    <tr>\n",
       "      <th>Mauritius</th>\n",
       "      <td>23</td>\n",
       "      <td>2345653</td>\n",
       "      <td>8576</td>\n",
       "      <td>0.913</td>\n",
       "      <td>Africa</td>\n",
       "      <td>African</td>\n",
       "      <td>101984.913043</td>\n",
       "    </tr>\n",
       "    <tr>\n",
       "      <th>Gujarat</th>\n",
       "      <td>54</td>\n",
       "      <td>3456359</td>\n",
       "      <td>6985</td>\n",
       "      <td>0.888</td>\n",
       "      <td>India</td>\n",
       "      <td>Gujarati</td>\n",
       "      <td>64006.648148</td>\n",
       "    </tr>\n",
       "    <tr>\n",
       "      <th>Indianapolis</th>\n",
       "      <td>34</td>\n",
       "      <td>3546345</td>\n",
       "      <td>3468</td>\n",
       "      <td>0.916</td>\n",
       "      <td>America</td>\n",
       "      <td>A. English</td>\n",
       "      <td>104304.264706</td>\n",
       "    </tr>\n",
       "    <tr>\n",
       "      <th>London</th>\n",
       "      <td>43</td>\n",
       "      <td>3345690</td>\n",
       "      <td>9575</td>\n",
       "      <td>0.873</td>\n",
       "      <td>England</td>\n",
       "      <td>B. English</td>\n",
       "      <td>77806.744186</td>\n",
       "    </tr>\n",
       "  </tbody>\n",
       "</table>\n",
       "</div>"
      ],
      "text/plain": [
       "              Population      GDP  Surface Area    HDI Continent    Language  \\\n",
       "Mauritius             23  2345653          8576  0.913    Africa     African   \n",
       "Gujarat               54  3456359          6985  0.888     India    Gujarati   \n",
       "Indianapolis          34  3546345          3468  0.916   America  A. English   \n",
       "London                43  3345690          9575  0.873   England  B. English   \n",
       "\n",
       "              Per Capita Income  \n",
       "Mauritius         101984.913043  \n",
       "Gujarat            64006.648148  \n",
       "Indianapolis      104304.264706  \n",
       "London             77806.744186  "
      ]
     },
     "execution_count": 77,
     "metadata": {},
     "output_type": "execute_result"
    }
   ],
   "source": [
    "dg"
   ]
  },
  {
   "cell_type": "code",
   "execution_count": 78,
   "id": "40690756-4ec4-447e-954a-d3b4268a3f5b",
   "metadata": {},
   "outputs": [
    {
     "data": {
      "text/plain": [
       "[<matplotlib.lines.Line2D at 0x11f94720690>]"
      ]
     },
     "execution_count": 78,
     "metadata": {},
     "output_type": "execute_result"
    },
    {
     "data": {
      "image/png": "[encoded data removed]",
      "text/plain": [
       "<Figure size 640x480 with 1 Axes>"
      ]
     },
     "metadata": {},
     "output_type": "display_data"
    }
   ],
   "source": [
    "plt.plot(dg.index,dg['Per Capita Income'])"
   ]
  },
  {
   "cell_type": "code",
   "execution_count": 84,
   "id": "1e2d1195-0570-4c64-bfa1-db7df7b03ff4",
   "metadata": {},
   "outputs": [
    {
     "data": {
      "text/plain": [
       "[<matplotlib.lines.Line2D at 0x11f949a8e10>]"
      ]
     },
     "execution_count": 84,
     "metadata": {},
     "output_type": "execute_result"
    },
    {
     "data": {
      "image/png": "[encoded data removed]",
      "text/plain": [
       "<Figure size 640x480 with 1 Axes>"
      ]
     },
     "metadata": {},
     "output_type": "display_data"
    }
   ],
   "source": [
    "x=np.arange(-10,11)\n",
    "plt.plot(x,x**2)"
   ]
  },
  {
   "cell_type": "code",
   "execution_count": 85,
   "id": "ed63cb4b-5fc6-448f-99f1-60b17c49fc81",
   "metadata": {},
   "outputs": [
    {
     "data": {
      "text/plain": [
       "Population                     54\n",
       "GDP                       3456359\n",
       "Surface Area                 6985\n",
       "HDI                         0.888\n",
       "Continent                   India\n",
       "Language                 Gujarati\n",
       "Per Capita Income    64006.648148\n",
       "Name: Gujarat, dtype: object"
      ]
     },
     "execution_count": 85,
     "metadata": {},
     "output_type": "execute_result"
    }
   ],
   "source": [
    "dg.loc['Gujarat']"
   ]
  },
  {
   "cell_type": "code",
   "execution_count": 88,
   "id": "f8e10712-2ea4-475c-9569-b06738ab9ec2",
   "metadata": {},
   "outputs": [
    {
     "data": {
      "text/plain": [
       "Population        54\n",
       "Surface Area    6985\n",
       "Name: Gujarat, dtype: object"
      ]
     },
     "execution_count": 88,
     "metadata": {},
     "output_type": "execute_result"
    }
   ],
   "source": [
    "dg.loc['Gujarat',['Population','Surface Area']]"
   ]
  },
  {
   "cell_type": "code",
   "execution_count": 92,
   "id": "4310cc7b-2d81-4557-93da-327733cb0ad6",
   "metadata": {},
   "outputs": [
    {
     "data": {
      "text/plain": [
       "<pandas.plotting._core.PlotAccessor object at 0x0000011F90CB29E0>"
      ]
     },
     "execution_count": 92,
     "metadata": {},
     "output_type": "execute_result"
    }
   ],
   "source": [
    "dg.loc['Gujarat'].plot"
   ]
  },
  {
   "cell_type": "code",
   "execution_count": 93,
   "id": "7c1ceed3-83a4-4aae-ae56-d204059c6203",
   "metadata": {},
   "outputs": [
    {
     "data": {
      "text/html": [
       "<div>\n",
       "<style scoped>\n",
       "    .dataframe tbody tr th:only-of-type {\n",
       "        vertical-align: middle;\n",
       "    }\n",
       "\n",
       "    .dataframe tbody tr th {\n",
       "        vertical-align: top;\n",
       "    }\n",
       "\n",
       "    .dataframe thead th {\n",
       "        text-align: right;\n",
       "    }\n",
       "</style>\n",
       "<table border=\"1\" class=\"dataframe\">\n",
       "  <thead>\n",
       "    <tr style=\"text-align: right;\">\n",
       "      <th></th>\n",
       "      <th>Population</th>\n",
       "      <th>GDP</th>\n",
       "      <th>Surface Area</th>\n",
       "      <th>HDI</th>\n",
       "      <th>Continent</th>\n",
       "      <th>Language</th>\n",
       "      <th>Per Capita Income</th>\n",
       "    </tr>\n",
       "  </thead>\n",
       "  <tbody>\n",
       "    <tr>\n",
       "      <th>Mauritius</th>\n",
       "      <td>False</td>\n",
       "      <td>False</td>\n",
       "      <td>False</td>\n",
       "      <td>False</td>\n",
       "      <td>False</td>\n",
       "      <td>False</td>\n",
       "      <td>False</td>\n",
       "    </tr>\n",
       "    <tr>\n",
       "      <th>Gujarat</th>\n",
       "      <td>False</td>\n",
       "      <td>False</td>\n",
       "      <td>False</td>\n",
       "      <td>False</td>\n",
       "      <td>False</td>\n",
       "      <td>False</td>\n",
       "      <td>False</td>\n",
       "    </tr>\n",
       "    <tr>\n",
       "      <th>Indianapolis</th>\n",
       "      <td>False</td>\n",
       "      <td>False</td>\n",
       "      <td>False</td>\n",
       "      <td>False</td>\n",
       "      <td>False</td>\n",
       "      <td>False</td>\n",
       "      <td>False</td>\n",
       "    </tr>\n",
       "    <tr>\n",
       "      <th>London</th>\n",
       "      <td>False</td>\n",
       "      <td>False</td>\n",
       "      <td>False</td>\n",
       "      <td>False</td>\n",
       "      <td>False</td>\n",
       "      <td>False</td>\n",
       "      <td>False</td>\n",
       "    </tr>\n",
       "  </tbody>\n",
       "</table>\n",
       "</div>"
      ],
      "text/plain": [
       "              Population    GDP  Surface Area    HDI  Continent  Language  \\\n",
       "Mauritius          False  False         False  False      False     False   \n",
       "Gujarat            False  False         False  False      False     False   \n",
       "Indianapolis       False  False         False  False      False     False   \n",
       "London             False  False         False  False      False     False   \n",
       "\n",
       "              Per Capita Income  \n",
       "Mauritius                 False  \n",
       "Gujarat                   False  \n",
       "Indianapolis              False  \n",
       "London                    False  "
      ]
     },
     "execution_count": 93,
     "metadata": {},
     "output_type": "execute_result"
    }
   ],
   "source": [
    "dg.isnull()"
   ]
  },
  {
   "cell_type": "code",
   "execution_count": 103,
   "id": "2dfbc41c-a4bd-4445-b6ee-a96fc74e9a73",
   "metadata": {},
   "outputs": [
    {
     "data": {
      "text/plain": [
       "0    False\n",
       "1     True\n",
       "2    False\n",
       "dtype: bool"
      ]
     },
     "execution_count": 103,
     "metadata": {},
     "output_type": "execute_result"
    }
   ],
   "source": [
    "pd.isnull(np.nan)\n",
    "pd.isnull(pd.Series([1,np.nan,7]))"
   ]
  },
  {
   "cell_type": "code",
   "execution_count": 95,
   "id": "32466e45-5678-4ea1-888f-1f159fece80c",
   "metadata": {},
   "outputs": [
    {
     "data": {
      "text/plain": [
       "True"
      ]
     },
     "execution_count": 95,
     "metadata": {},
     "output_type": "execute_result"
    }
   ],
   "source": [
    "pd.isnull(None)"
   ]
  },
  {
   "cell_type": "code",
   "execution_count": 96,
   "id": "3551c9da-003a-4fe1-abee-de087b85530c",
   "metadata": {},
   "outputs": [
    {
     "data": {
      "text/plain": [
       "True"
      ]
     },
     "execution_count": 96,
     "metadata": {},
     "output_type": "execute_result"
    }
   ],
   "source": [
    "pd.isna(np.nan)"
   ]
  },
  {
   "cell_type": "code",
   "execution_count": 97,
   "id": "531b4e69-4608-45a3-8197-6ba45ba61309",
   "metadata": {},
   "outputs": [
    {
     "data": {
      "text/plain": [
       "True"
      ]
     },
     "execution_count": 97,
     "metadata": {},
     "output_type": "execute_result"
    }
   ],
   "source": [
    "pd.isna(None)"
   ]
  },
  {
   "cell_type": "code",
   "execution_count": 100,
   "id": "77591c48-6bd6-40c3-b506-55c8b1170834",
   "metadata": {},
   "outputs": [
    {
     "data": {
      "text/plain": [
       "0    False\n",
       "1     True\n",
       "2    False\n",
       "dtype: bool"
      ]
     },
     "execution_count": 100,
     "metadata": {},
     "output_type": "execute_result"
    }
   ],
   "source": [
    "pd.isnull(pd.Series([1,np.nan,7]))"
   ]
  },
  {
   "cell_type": "code",
   "execution_count": 102,
   "id": "ad978965-42c0-4f5a-8a98-833cf60c42b4",
   "metadata": {},
   "outputs": [
    {
     "data": {
      "text/plain": [
       "0     True\n",
       "1    False\n",
       "2     True\n",
       "dtype: bool"
      ]
     },
     "execution_count": 102,
     "metadata": {},
     "output_type": "execute_result"
    }
   ],
   "source": [
    "pd.notnull(pd.Series([1,np.nan,7]))"
   ]
  },
  {
   "cell_type": "code",
   "execution_count": 113,
   "id": "4f011e2c-0f5f-4a23-aec7-ce66c0c5c894",
   "metadata": {},
   "outputs": [
    {
     "data": {
      "text/plain": [
       "np.int64(0)"
      ]
     },
     "execution_count": 113,
     "metadata": {},
     "output_type": "execute_result"
    }
   ],
   "source": [
    "s=[1,2,3,4,5]\n",
    "pd.isnull(s).sum()"
   ]
  },
  {
   "cell_type": "code",
   "execution_count": 108,
   "id": "9ac6a686-607d-465b-bc55-5f6468653168",
   "metadata": {},
   "outputs": [
    {
     "data": {
      "text/plain": [
       "np.int64(3)"
      ]
     },
     "execution_count": 108,
     "metadata": {},
     "output_type": "execute_result"
    }
   ],
   "source": [
    "pd.notnull(s).sum()"
   ]
  },
  {
   "cell_type": "code",
   "execution_count": 114,
   "id": "5cea8fc3-4206-4f85-b6c8-498dac42adb2",
   "metadata": {},
   "outputs": [
    {
     "data": {
      "text/plain": [
       "15"
      ]
     },
     "execution_count": 114,
     "metadata": {},
     "output_type": "execute_result"
    }
   ],
   "source": [
    "sum(s)"
   ]
  },
  {
   "cell_type": "code",
   "execution_count": 116,
   "id": "dff4c58c-9ac4-4286-bcbe-2c0573fcca9c",
   "metadata": {},
   "outputs": [
    {
     "name": "stdout",
     "output_type": "stream",
     "text": [
      "Sum = 15\n"
     ]
    }
   ],
   "source": [
    "t=np.sum(s)\n",
    "print(\"Sum =\",t)"
   ]
  },
  {
   "cell_type": "code",
   "execution_count": 117,
   "id": "84256676-1884-4048-880a-14cb5cdb00dd",
   "metadata": {},
   "outputs": [
    {
     "data": {
      "text/plain": [
       "[1, 2, 3, 4, 5]"
      ]
     },
     "execution_count": 117,
     "metadata": {},
     "output_type": "execute_result"
    }
   ],
   "source": [
    "s"
   ]
  },
  {
   "cell_type": "code",
   "execution_count": 125,
   "id": "14852623-14ff-4db5-9419-49a8a07bab26",
   "metadata": {},
   "outputs": [],
   "source": [
    "f=[1,np.nan,np.nan,4,5]"
   ]
  },
  {
   "cell_type": "code",
   "execution_count": 119,
   "id": "40729441-9742-4a9b-a8ff-f1c50e926149",
   "metadata": {},
   "outputs": [
    {
     "data": {
      "text/plain": [
       "[1, nan, nan, 4, 5]"
      ]
     },
     "execution_count": 119,
     "metadata": {},
     "output_type": "execute_result"
    }
   ],
   "source": [
    "f"
   ]
  },
  {
   "cell_type": "code",
   "execution_count": 128,
   "id": "dcf4e5f5-eba5-49a9-b3a4-218378e7521c",
   "metadata": {},
   "outputs": [],
   "source": [
    "v=pd.Series(f)"
   ]
  },
  {
   "cell_type": "code",
   "execution_count": 129,
   "id": "65a6265a-de14-4177-b79d-c7009ee60b4a",
   "metadata": {},
   "outputs": [
    {
     "data": {
      "text/plain": [
       "0    1.0\n",
       "1    NaN\n",
       "2    NaN\n",
       "3    4.0\n",
       "4    5.0\n",
       "dtype: float64"
      ]
     },
     "execution_count": 129,
     "metadata": {},
     "output_type": "execute_result"
    }
   ],
   "source": [
    "v"
   ]
  },
  {
   "cell_type": "code",
   "execution_count": 130,
   "id": "35cbd92b-29be-43d7-ae46-2dd81bf8c8d7",
   "metadata": {},
   "outputs": [
    {
     "name": "stdout",
     "output_type": "stream",
     "text": [
      "0    1.0\n",
      "3    4.0\n",
      "4    5.0\n",
      "dtype: float64\n"
     ]
    }
   ],
   "source": [
    "clean=v.dropna()\n",
    "print(clean)"
   ]
  },
  {
   "cell_type": "code",
   "execution_count": 131,
   "id": "a4c5de8e-9863-4509-8b9b-78896a361c54",
   "metadata": {},
   "outputs": [
    {
     "data": {
      "text/plain": [
       "0    1.0\n",
       "1    NaN\n",
       "2    NaN\n",
       "3    4.0\n",
       "4    5.0\n",
       "dtype: float64"
      ]
     },
     "execution_count": 131,
     "metadata": {},
     "output_type": "execute_result"
    }
   ],
   "source": [
    "v"
   ]
  },
  {
   "cell_type": "code",
   "execution_count": 133,
   "id": "cdc437e1-815f-4e6a-9705-f0fad7b737e8",
   "metadata": {},
   "outputs": [
    {
     "name": "stdout",
     "output_type": "stream",
     "text": [
      "0    1.0\n",
      "1    2.0\n",
      "4    5.0\n",
      "dtype: float64\n"
     ]
    }
   ],
   "source": [
    "#Clean Data\n",
    "\n",
    "z=[1,2,np.nan,np.nan,5]\n",
    "x=pd.Series(z)\n",
    "y=x.dropna()\n",
    "print(y)"
   ]
  },
  {
   "cell_type": "code",
   "execution_count": 134,
   "id": "c2acd7f9-cecd-4fc8-bdb4-06f917d0bb43",
   "metadata": {},
   "outputs": [],
   "source": [
    "dg=pd.DataFrame({\n",
    "    'Column A':(1,2,np.nan,np.nan,5),\n",
    "    'Column B':(1,np.nan,np.nan,4,5),\n",
    "    'Column C':(np.nan,2,np.nan,4,5),\n",
    "    'Column D':(1,np.nan,3,np.nan,5),\n",
    "})"
   ]
  },
  {
   "cell_type": "code",
   "execution_count": 135,
   "id": "ae9f5076-699e-430a-9894-9e7024c96e57",
   "metadata": {},
   "outputs": [
    {
     "data": {
      "text/html": [
       "<div>\n",
       "<style scoped>\n",
       "    .dataframe tbody tr th:only-of-type {\n",
       "        vertical-align: middle;\n",
       "    }\n",
       "\n",
       "    .dataframe tbody tr th {\n",
       "        vertical-align: top;\n",
       "    }\n",
       "\n",
       "    .dataframe thead th {\n",
       "        text-align: right;\n",
       "    }\n",
       "</style>\n",
       "<table border=\"1\" class=\"dataframe\">\n",
       "  <thead>\n",
       "    <tr style=\"text-align: right;\">\n",
       "      <th></th>\n",
       "      <th>Column A</th>\n",
       "      <th>Column B</th>\n",
       "      <th>Column C</th>\n",
       "      <th>Column D</th>\n",
       "    </tr>\n",
       "  </thead>\n",
       "  <tbody>\n",
       "    <tr>\n",
       "      <th>0</th>\n",
       "      <td>1.0</td>\n",
       "      <td>1.0</td>\n",
       "      <td>NaN</td>\n",
       "      <td>1.0</td>\n",
       "    </tr>\n",
       "    <tr>\n",
       "      <th>1</th>\n",
       "      <td>2.0</td>\n",
       "      <td>NaN</td>\n",
       "      <td>2.0</td>\n",
       "      <td>NaN</td>\n",
       "    </tr>\n",
       "    <tr>\n",
       "      <th>2</th>\n",
       "      <td>NaN</td>\n",
       "      <td>NaN</td>\n",
       "      <td>NaN</td>\n",
       "      <td>3.0</td>\n",
       "    </tr>\n",
       "    <tr>\n",
       "      <th>3</th>\n",
       "      <td>NaN</td>\n",
       "      <td>4.0</td>\n",
       "      <td>4.0</td>\n",
       "      <td>NaN</td>\n",
       "    </tr>\n",
       "    <tr>\n",
       "      <th>4</th>\n",
       "      <td>5.0</td>\n",
       "      <td>5.0</td>\n",
       "      <td>5.0</td>\n",
       "      <td>5.0</td>\n",
       "    </tr>\n",
       "  </tbody>\n",
       "</table>\n",
       "</div>"
      ],
      "text/plain": [
       "   Column A  Column B  Column C  Column D\n",
       "0       1.0       1.0       NaN       1.0\n",
       "1       2.0       NaN       2.0       NaN\n",
       "2       NaN       NaN       NaN       3.0\n",
       "3       NaN       4.0       4.0       NaN\n",
       "4       5.0       5.0       5.0       5.0"
      ]
     },
     "execution_count": 135,
     "metadata": {},
     "output_type": "execute_result"
    }
   ],
   "source": [
    "dg"
   ]
  },
  {
   "cell_type": "code",
   "execution_count": 138,
   "id": "76936473-2290-403e-9c0a-f174ff19ef65",
   "metadata": {},
   "outputs": [
    {
     "data": {
      "text/plain": [
       "Column A     8.0\n",
       "Column B    10.0\n",
       "Column C    11.0\n",
       "Column D     9.0\n",
       "dtype: float64"
      ]
     },
     "execution_count": 138,
     "metadata": {},
     "output_type": "execute_result"
    }
   ],
   "source": [
    "dg.sum()"
   ]
  },
  {
   "cell_type": "code",
   "execution_count": 139,
   "id": "dbbe24c4-30d6-4fe7-a737-4562679ad591",
   "metadata": {},
   "outputs": [
    {
     "data": {
      "text/plain": [
       "Column A    2\n",
       "Column B    2\n",
       "Column C    2\n",
       "Column D    2\n",
       "dtype: int64"
      ]
     },
     "execution_count": 139,
     "metadata": {},
     "output_type": "execute_result"
    }
   ],
   "source": [
    "dg.isnull().sum()"
   ]
  },
  {
   "cell_type": "code",
   "execution_count": 140,
   "id": "3e4fba74-c5e8-403c-b548-73255779d8de",
   "metadata": {},
   "outputs": [
    {
     "data": {
      "text/plain": [
       "Column A    3\n",
       "Column B    3\n",
       "Column C    3\n",
       "Column D    3\n",
       "dtype: int64"
      ]
     },
     "execution_count": 140,
     "metadata": {},
     "output_type": "execute_result"
    }
   ],
   "source": [
    "dg.count()"
   ]
  },
  {
   "cell_type": "code",
   "execution_count": 144,
   "id": "fca229b5-dd08-4abc-afc4-9f0bb8cc7c6b",
   "metadata": {},
   "outputs": [],
   "source": [
    "gf=dg.dropna()"
   ]
  },
  {
   "cell_type": "code",
   "execution_count": 145,
   "id": "660e9bc2-be69-40f2-8176-c529e09d3a77",
   "metadata": {},
   "outputs": [
    {
     "data": {
      "text/html": [
       "<div>\n",
       "<style scoped>\n",
       "    .dataframe tbody tr th:only-of-type {\n",
       "        vertical-align: middle;\n",
       "    }\n",
       "\n",
       "    .dataframe tbody tr th {\n",
       "        vertical-align: top;\n",
       "    }\n",
       "\n",
       "    .dataframe thead th {\n",
       "        text-align: right;\n",
       "    }\n",
       "</style>\n",
       "<table border=\"1\" class=\"dataframe\">\n",
       "  <thead>\n",
       "    <tr style=\"text-align: right;\">\n",
       "      <th></th>\n",
       "      <th>Column A</th>\n",
       "      <th>Column B</th>\n",
       "      <th>Column C</th>\n",
       "      <th>Column D</th>\n",
       "    </tr>\n",
       "  </thead>\n",
       "  <tbody>\n",
       "    <tr>\n",
       "      <th>4</th>\n",
       "      <td>5.0</td>\n",
       "      <td>5.0</td>\n",
       "      <td>5.0</td>\n",
       "      <td>5.0</td>\n",
       "    </tr>\n",
       "  </tbody>\n",
       "</table>\n",
       "</div>"
      ],
      "text/plain": [
       "   Column A  Column B  Column C  Column D\n",
       "4       5.0       5.0       5.0       5.0"
      ]
     },
     "execution_count": 145,
     "metadata": {},
     "output_type": "execute_result"
    }
   ],
   "source": [
    "gf"
   ]
  },
  {
   "cell_type": "code",
   "execution_count": 146,
   "id": "4fb894b7-36b2-461e-8a69-d8c8d0e81445",
   "metadata": {},
   "outputs": [
    {
     "data": {
      "text/html": [
       "<div>\n",
       "<style scoped>\n",
       "    .dataframe tbody tr th:only-of-type {\n",
       "        vertical-align: middle;\n",
       "    }\n",
       "\n",
       "    .dataframe tbody tr th {\n",
       "        vertical-align: top;\n",
       "    }\n",
       "\n",
       "    .dataframe thead th {\n",
       "        text-align: right;\n",
       "    }\n",
       "</style>\n",
       "<table border=\"1\" class=\"dataframe\">\n",
       "  <thead>\n",
       "    <tr style=\"text-align: right;\">\n",
       "      <th></th>\n",
       "      <th>Column A</th>\n",
       "      <th>Column B</th>\n",
       "      <th>Column C</th>\n",
       "      <th>Column D</th>\n",
       "    </tr>\n",
       "  </thead>\n",
       "  <tbody>\n",
       "    <tr>\n",
       "      <th>0</th>\n",
       "      <td>1.0</td>\n",
       "      <td>1.0</td>\n",
       "      <td>NaN</td>\n",
       "      <td>1.0</td>\n",
       "    </tr>\n",
       "    <tr>\n",
       "      <th>1</th>\n",
       "      <td>2.0</td>\n",
       "      <td>NaN</td>\n",
       "      <td>2.0</td>\n",
       "      <td>NaN</td>\n",
       "    </tr>\n",
       "    <tr>\n",
       "      <th>2</th>\n",
       "      <td>NaN</td>\n",
       "      <td>NaN</td>\n",
       "      <td>NaN</td>\n",
       "      <td>3.0</td>\n",
       "    </tr>\n",
       "    <tr>\n",
       "      <th>3</th>\n",
       "      <td>NaN</td>\n",
       "      <td>4.0</td>\n",
       "      <td>4.0</td>\n",
       "      <td>NaN</td>\n",
       "    </tr>\n",
       "    <tr>\n",
       "      <th>4</th>\n",
       "      <td>5.0</td>\n",
       "      <td>5.0</td>\n",
       "      <td>5.0</td>\n",
       "      <td>5.0</td>\n",
       "    </tr>\n",
       "  </tbody>\n",
       "</table>\n",
       "</div>"
      ],
      "text/plain": [
       "   Column A  Column B  Column C  Column D\n",
       "0       1.0       1.0       NaN       1.0\n",
       "1       2.0       NaN       2.0       NaN\n",
       "2       NaN       NaN       NaN       3.0\n",
       "3       NaN       4.0       4.0       NaN\n",
       "4       5.0       5.0       5.0       5.0"
      ]
     },
     "execution_count": 146,
     "metadata": {},
     "output_type": "execute_result"
    }
   ],
   "source": [
    "dg"
   ]
  },
  {
   "cell_type": "code",
   "execution_count": 161,
   "id": "51eb9805-875c-4181-8a4c-300d07d01ef2",
   "metadata": {},
   "outputs": [
    {
     "data": {
      "text/html": [
       "<div>\n",
       "<style scoped>\n",
       "    .dataframe tbody tr th:only-of-type {\n",
       "        vertical-align: middle;\n",
       "    }\n",
       "\n",
       "    .dataframe tbody tr th {\n",
       "        vertical-align: top;\n",
       "    }\n",
       "\n",
       "    .dataframe thead th {\n",
       "        text-align: right;\n",
       "    }\n",
       "</style>\n",
       "<table border=\"1\" class=\"dataframe\">\n",
       "  <thead>\n",
       "    <tr style=\"text-align: right;\">\n",
       "      <th></th>\n",
       "      <th>Column A</th>\n",
       "      <th>Column B</th>\n",
       "      <th>Column C</th>\n",
       "      <th>Column D</th>\n",
       "    </tr>\n",
       "  </thead>\n",
       "  <tbody>\n",
       "    <tr>\n",
       "      <th>0</th>\n",
       "      <td>1.0</td>\n",
       "      <td>1.0</td>\n",
       "      <td>0.0</td>\n",
       "      <td>1.0</td>\n",
       "    </tr>\n",
       "    <tr>\n",
       "      <th>1</th>\n",
       "      <td>2.0</td>\n",
       "      <td>0.0</td>\n",
       "      <td>2.0</td>\n",
       "      <td>0.0</td>\n",
       "    </tr>\n",
       "    <tr>\n",
       "      <th>2</th>\n",
       "      <td>0.0</td>\n",
       "      <td>0.0</td>\n",
       "      <td>0.0</td>\n",
       "      <td>3.0</td>\n",
       "    </tr>\n",
       "    <tr>\n",
       "      <th>3</th>\n",
       "      <td>0.0</td>\n",
       "      <td>4.0</td>\n",
       "      <td>4.0</td>\n",
       "      <td>0.0</td>\n",
       "    </tr>\n",
       "    <tr>\n",
       "      <th>4</th>\n",
       "      <td>5.0</td>\n",
       "      <td>5.0</td>\n",
       "      <td>5.0</td>\n",
       "      <td>5.0</td>\n",
       "    </tr>\n",
       "  </tbody>\n",
       "</table>\n",
       "</div>"
      ],
      "text/plain": [
       "   Column A  Column B  Column C  Column D\n",
       "0       1.0       1.0       0.0       1.0\n",
       "1       2.0       0.0       2.0       0.0\n",
       "2       0.0       0.0       0.0       3.0\n",
       "3       0.0       4.0       4.0       0.0\n",
       "4       5.0       5.0       5.0       5.0"
      ]
     },
     "execution_count": 161,
     "metadata": {},
     "output_type": "execute_result"
    }
   ],
   "source": [
    "dg.fillna(0)"
   ]
  },
  {
   "cell_type": "code",
   "execution_count": 171,
   "id": "63c76ffc-4688-4c29-bcac-3a7f00383037",
   "metadata": {},
   "outputs": [],
   "source": [
    "ambassador=pd.Series([\n",
    "    'India',\n",
    "    'United Kingdom',\n",
    "    'United Kingdom',\n",
    "    'Singapore',\n",
    "    'USA',\n",
    "    'USA',\n",
    "    'USA'\n",
    "],index=[\n",
    "    'Modi',\n",
    "    'Sunak',\n",
    "    'Shaikh Rashid',\n",
    "    'Lung Chang',\n",
    "    'Dholakiya',\n",
    "    'Trump',\n",
    "    'Bagdadi'\n",
    "])"
   ]
  },
  {
   "cell_type": "code",
   "execution_count": 172,
   "id": "ac1d339d-c98d-4222-8f40-625b06b069a1",
   "metadata": {},
   "outputs": [
    {
     "data": {
      "text/plain": [
       "dtype('O')"
      ]
     },
     "execution_count": 172,
     "metadata": {},
     "output_type": "execute_result"
    }
   ],
   "source": [
    "np.dtype(ambassador)"
   ]
  },
  {
   "cell_type": "code",
   "execution_count": 173,
   "id": "3149e0a8-4064-4030-ba9b-da5fd50e3f0d",
   "metadata": {},
   "outputs": [
    {
     "data": {
      "text/plain": [
       "Modi             False\n",
       "Sunak            False\n",
       "Shaikh Rashid     True\n",
       "Lung Chang       False\n",
       "Dholakiya        False\n",
       "Trump             True\n",
       "Bagdadi           True\n",
       "dtype: bool"
      ]
     },
     "execution_count": 173,
     "metadata": {},
     "output_type": "execute_result"
    }
   ],
   "source": [
    "ambassador.duplicated()"
   ]
  },
  {
   "cell_type": "code",
   "execution_count": 182,
   "id": "b9cca4a5-c3bc-44f8-bcb3-dc2ad9491a0d",
   "metadata": {},
   "outputs": [
    {
     "data": {
      "text/plain": [
       "Modi             False\n",
       "Sunak            False\n",
       "Shaikh Rashid     True\n",
       "Lung Chang       False\n",
       "Dholakiya        False\n",
       "Trump             True\n",
       "Bagdadi           True\n",
       "dtype: bool"
      ]
     },
     "execution_count": 182,
     "metadata": {},
     "output_type": "execute_result"
    }
   ],
   "source": [
    "ambassador.duplicated(keep='first')"
   ]
  },
  {
   "cell_type": "code",
   "execution_count": 183,
   "id": "e71d2176-548c-4201-8f1d-67c554911ed9",
   "metadata": {},
   "outputs": [
    {
     "data": {
      "text/plain": [
       "Modi             False\n",
       "Sunak             True\n",
       "Shaikh Rashid    False\n",
       "Lung Chang       False\n",
       "Dholakiya         True\n",
       "Trump             True\n",
       "Bagdadi          False\n",
       "dtype: bool"
      ]
     },
     "execution_count": 183,
     "metadata": {},
     "output_type": "execute_result"
    }
   ],
   "source": [
    "ambassador.duplicated(keep='last')"
   ]
  },
  {
   "cell_type": "code",
   "execution_count": 184,
   "id": "683b3264-5ec9-49a4-b563-0c00f8fa9fd2",
   "metadata": {},
   "outputs": [
    {
     "data": {
      "text/plain": [
       "Modi                      India\n",
       "Sunak            United Kingdom\n",
       "Shaikh Rashid    United Kingdom\n",
       "Lung Chang            Singapore\n",
       "Dholakiya                   USA\n",
       "Trump                       USA\n",
       "Bagdadi                     USA\n",
       "dtype: object"
      ]
     },
     "execution_count": 184,
     "metadata": {},
     "output_type": "execute_result"
    }
   ],
   "source": [
    "ambassador"
   ]
  },
  {
   "cell_type": "code",
   "execution_count": 189,
   "id": "36e5508d-3660-4375-bb70-2db700d729e0",
   "metadata": {},
   "outputs": [
    {
     "data": {
      "text/plain": [
       "Modi                   India\n",
       "Sunak         United Kingdom\n",
       "Lung Chang         Singapore\n",
       "Dholakiya                USA\n",
       "dtype: object"
      ]
     },
     "execution_count": 189,
     "metadata": {},
     "output_type": "execute_result"
    }
   ],
   "source": [
    "ambassador.drop_duplicates()"
   ]
  },
  {
   "cell_type": "code",
   "execution_count": 209,
   "id": "eeee3342-0e04-4761-91fe-48d2ce12d0c2",
   "metadata": {},
   "outputs": [
    {
     "data": {
      "text/plain": [
       "Modi                   India\n",
       "Sunak         United Kingdom\n",
       "Lung Chang         Singapore\n",
       "Dholakiya                USA\n",
       "dtype: object"
      ]
     },
     "execution_count": 209,
     "metadata": {},
     "output_type": "execute_result"
    }
   ],
   "source": [
    "ambassador.drop_duplicates(keep='first')"
   ]
  },
  {
   "cell_type": "code",
   "execution_count": 208,
   "id": "8cd6d86c-1ff4-4f4e-b22f-fc6e9642eaff",
   "metadata": {},
   "outputs": [
    {
     "data": {
      "text/plain": [
       "Modi              India\n",
       "Lung Chang    Singapore\n",
       "dtype: object"
      ]
     },
     "execution_count": 208,
     "metadata": {},
     "output_type": "execute_result"
    }
   ],
   "source": [
    "ambassador.drop_duplicates(keep=False)"
   ]
  },
  {
   "cell_type": "code",
   "execution_count": 213,
   "id": "7471b984-ea53-4323-89e8-40a29c105cbf",
   "metadata": {},
   "outputs": [],
   "source": [
    "ds=pd.DataFrame({\n",
    "    'Name':[\n",
    "    'Preyas Gandhi',\n",
    "    'Vivaan Desai',\n",
    "    'Kaustubh Seth',\n",
    "    'Vivaan Maniar'],\n",
    "    'Study':[\n",
    "    'BCA',\n",
    "    'B.Sc',\n",
    "    'B.Tech',\n",
    "    'Cricket'\n",
    "]})"
   ]
  },
  {
   "cell_type": "code",
   "execution_count": 198,
   "id": "3b0500c4-3a00-4903-b768-79d2c05facf9",
   "metadata": {},
   "outputs": [
    {
     "data": {
      "text/html": [
       "<div>\n",
       "<style scoped>\n",
       "    .dataframe tbody tr th:only-of-type {\n",
       "        vertical-align: middle;\n",
       "    }\n",
       "\n",
       "    .dataframe tbody tr th {\n",
       "        vertical-align: top;\n",
       "    }\n",
       "\n",
       "    .dataframe thead th {\n",
       "        text-align: right;\n",
       "    }\n",
       "</style>\n",
       "<table border=\"1\" class=\"dataframe\">\n",
       "  <thead>\n",
       "    <tr style=\"text-align: right;\">\n",
       "      <th></th>\n",
       "      <th>Name</th>\n",
       "      <th>Study</th>\n",
       "    </tr>\n",
       "  </thead>\n",
       "  <tbody>\n",
       "    <tr>\n",
       "      <th>0</th>\n",
       "      <td>Preyas</td>\n",
       "      <td>BCA</td>\n",
       "    </tr>\n",
       "    <tr>\n",
       "      <th>1</th>\n",
       "      <td>Vivaan</td>\n",
       "      <td>B.Sc</td>\n",
       "    </tr>\n",
       "    <tr>\n",
       "      <th>2</th>\n",
       "      <td>Kaustubh</td>\n",
       "      <td>B.Tech</td>\n",
       "    </tr>\n",
       "    <tr>\n",
       "      <th>3</th>\n",
       "      <td>Vivaan</td>\n",
       "      <td>Cricket</td>\n",
       "    </tr>\n",
       "  </tbody>\n",
       "</table>\n",
       "</div>"
      ],
      "text/plain": [
       "       Name    Study\n",
       "0    Preyas      BCA\n",
       "1    Vivaan     B.Sc\n",
       "2  Kaustubh   B.Tech\n",
       "3    Vivaan  Cricket"
      ]
     },
     "execution_count": 198,
     "metadata": {},
     "output_type": "execute_result"
    }
   ],
   "source": [
    "ds"
   ]
  },
  {
   "cell_type": "code",
   "execution_count": 214,
   "id": "26782dbb-c5cb-483c-b00c-e724ab023a1b",
   "metadata": {},
   "outputs": [
    {
     "data": {
      "text/html": [
       "<div>\n",
       "<style scoped>\n",
       "    .dataframe tbody tr th:only-of-type {\n",
       "        vertical-align: middle;\n",
       "    }\n",
       "\n",
       "    .dataframe tbody tr th {\n",
       "        vertical-align: top;\n",
       "    }\n",
       "\n",
       "    .dataframe thead th {\n",
       "        text-align: right;\n",
       "    }\n",
       "</style>\n",
       "<table border=\"1\" class=\"dataframe\">\n",
       "  <thead>\n",
       "    <tr style=\"text-align: right;\">\n",
       "      <th></th>\n",
       "      <th>Name</th>\n",
       "      <th>Study</th>\n",
       "    </tr>\n",
       "  </thead>\n",
       "  <tbody>\n",
       "    <tr>\n",
       "      <th>0</th>\n",
       "      <td>Preyas Gandhi</td>\n",
       "      <td>BCA</td>\n",
       "    </tr>\n",
       "    <tr>\n",
       "      <th>1</th>\n",
       "      <td>Vivaan Desai</td>\n",
       "      <td>B.Sc</td>\n",
       "    </tr>\n",
       "    <tr>\n",
       "      <th>2</th>\n",
       "      <td>Kaustubh Seth</td>\n",
       "      <td>B.Tech</td>\n",
       "    </tr>\n",
       "    <tr>\n",
       "      <th>3</th>\n",
       "      <td>Vivaan Maniar</td>\n",
       "      <td>Cricket</td>\n",
       "    </tr>\n",
       "  </tbody>\n",
       "</table>\n",
       "</div>"
      ],
      "text/plain": [
       "            Name    Study\n",
       "0  Preyas Gandhi      BCA\n",
       "1   Vivaan Desai     B.Sc\n",
       "2  Kaustubh Seth   B.Tech\n",
       "3  Vivaan Maniar  Cricket"
      ]
     },
     "execution_count": 214,
     "metadata": {},
     "output_type": "execute_result"
    }
   ],
   "source": [
    "ds.drop_duplicates(subset=['Name'])"
   ]
  },
  {
   "cell_type": "code",
   "execution_count": 219,
   "id": "8ef87c3e-6e6a-4e1c-afcd-b9e23a5a1f45",
   "metadata": {},
   "outputs": [
    {
     "data": {
      "text/html": [
       "<div>\n",
       "<style scoped>\n",
       "    .dataframe tbody tr th:only-of-type {\n",
       "        vertical-align: middle;\n",
       "    }\n",
       "\n",
       "    .dataframe tbody tr th {\n",
       "        vertical-align: top;\n",
       "    }\n",
       "\n",
       "    .dataframe thead th {\n",
       "        text-align: right;\n",
       "    }\n",
       "</style>\n",
       "<table border=\"1\" class=\"dataframe\">\n",
       "  <thead>\n",
       "    <tr style=\"text-align: right;\">\n",
       "      <th></th>\n",
       "      <th>0</th>\n",
       "      <th>1</th>\n",
       "    </tr>\n",
       "  </thead>\n",
       "  <tbody>\n",
       "    <tr>\n",
       "      <th>0</th>\n",
       "      <td>Preyas</td>\n",
       "      <td>Gandhi</td>\n",
       "    </tr>\n",
       "    <tr>\n",
       "      <th>1</th>\n",
       "      <td>Vivaan</td>\n",
       "      <td>Desai</td>\n",
       "    </tr>\n",
       "    <tr>\n",
       "      <th>2</th>\n",
       "      <td>Kaustubh</td>\n",
       "      <td>Seth</td>\n",
       "    </tr>\n",
       "    <tr>\n",
       "      <th>3</th>\n",
       "      <td>Vivaan</td>\n",
       "      <td>Maniar</td>\n",
       "    </tr>\n",
       "  </tbody>\n",
       "</table>\n",
       "</div>"
      ],
      "text/plain": [
       "          0       1\n",
       "0    Preyas  Gandhi\n",
       "1    Vivaan   Desai\n",
       "2  Kaustubh    Seth\n",
       "3    Vivaan  Maniar"
      ]
     },
     "execution_count": 219,
     "metadata": {},
     "output_type": "execute_result"
    }
   ],
   "source": [
    "ds['Name'].str.split(' ',expand=True)"
   ]
  },
  {
   "cell_type": "code",
   "execution_count": 246,
   "id": "1fcd146f-a3c2-48ae-813e-5b154bd15eb6",
   "metadata": {},
   "outputs": [],
   "source": [
    "dh=pd.DataFrame({\n",
    "    'Name':[\n",
    "        'Preyas',\n",
    "        'Krushn',\n",
    "        'Devansh',\n",
    "        'Vedika'\n",
    "    ],\n",
    "    'Year':[\n",
    "        '2004',\n",
    "        '2007?',\n",
    "        '2008?',\n",
    "        '2005'\n",
    "    ]\n",
    "})"
   ]
  },
  {
   "cell_type": "code",
   "execution_count": 249,
   "id": "6d1d9496-c689-40e8-895e-af2c64d780d5",
   "metadata": {},
   "outputs": [
    {
     "name": "stderr",
     "output_type": "stream",
     "text": [
      "<>:1: SyntaxWarning: invalid escape sequence '\\?'\n",
      "<>:1: SyntaxWarning: invalid escape sequence '\\?'\n",
      "C:\\Users\\ABC\\AppData\\Local\\Temp\\ipykernel_9844\\3791211128.py:1: SyntaxWarning: invalid escape sequence '\\?'\n",
      "  dh['Year'].str.contains('\\?',regex=True)\n"
     ]
    },
    {
     "data": {
      "text/plain": [
       "0    False\n",
       "1    False\n",
       "2    False\n",
       "3    False\n",
       "Name: Year, dtype: bool"
      ]
     },
     "execution_count": 249,
     "metadata": {},
     "output_type": "execute_result"
    }
   ],
   "source": [
    "dh['Year'].str.contains('\\?',regex=True)"
   ]
  },
  {
   "cell_type": "code",
   "execution_count": 250,
   "id": "36b3f2cb-c652-4ba7-bf47-cf4140ba923c",
   "metadata": {},
   "outputs": [
    {
     "data": {
      "text/plain": [
       "0     2004\n",
       "1    2007-\n",
       "2    2008-\n",
       "3     2005\n",
       "Name: Year, dtype: object"
      ]
     },
     "execution_count": 250,
     "metadata": {},
     "output_type": "execute_result"
    }
   ],
   "source": [
    "dh['Year']"
   ]
  },
  {
   "cell_type": "code",
   "execution_count": 6,
   "id": "67ac8307-731b-4b23-a912-fa650cac1662",
   "metadata": {},
   "outputs": [
    {
     "data": {
      "text/html": [
       "<div>\n",
       "<style scoped>\n",
       "    .dataframe tbody tr th:only-of-type {\n",
       "        vertical-align: middle;\n",
       "    }\n",
       "\n",
       "    .dataframe tbody tr th {\n",
       "        vertical-align: top;\n",
       "    }\n",
       "\n",
       "    .dataframe thead th {\n",
       "        text-align: right;\n",
       "    }\n",
       "</style>\n",
       "<table border=\"1\" class=\"dataframe\">\n",
       "  <thead>\n",
       "    <tr style=\"text-align: right;\">\n",
       "      <th></th>\n",
       "      <th>Name</th>\n",
       "      <th>Year</th>\n",
       "    </tr>\n",
       "  </thead>\n",
       "  <tbody>\n",
       "    <tr>\n",
       "      <th>1</th>\n",
       "      <td>Krushn</td>\n",
       "      <td>2007?</td>\n",
       "    </tr>\n",
       "    <tr>\n",
       "      <th>2</th>\n",
       "      <td>Devansh</td>\n",
       "      <td>2008?</td>\n",
       "    </tr>\n",
       "    <tr>\n",
       "      <th>3</th>\n",
       "      <td>Vedika</td>\n",
       "      <td>2005</td>\n",
       "    </tr>\n",
       "  </tbody>\n",
       "</table>\n",
       "</div>"
      ],
      "text/plain": [
       "      Name   Year\n",
       "1   Krushn  2007?\n",
       "2  Devansh  2008?\n",
       "3   Vedika   2005"
      ]
     },
     "execution_count": 6,
     "metadata": {},
     "output_type": "execute_result"
    }
   ],
   "source": [
    "import numpy as np\n",
    "import pandas as pd\n",
    "import matplotlib.pyplot as plt\n",
    "dz=pd.DataFrame({\n",
    "    'Name':[\n",
    "        'Preyas',\n",
    "        'Krushn',\n",
    "        'Devansh',\n",
    "        'Vedika'\n",
    "    ],\n",
    "    'Year':[\n",
    "        '2004',\n",
    "        '2007?',\n",
    "        '2008?',\n",
    "        '2005'\n",
    "    ]\n",
    "})\n",
    "for x in dz.index:\n",
    "    if dz.loc[x,'Name']=='Preyas':\n",
    "        dz.drop(x,inplace=True)\n",
    "\n",
    "dz"
   ]
  },
  {
   "cell_type": "code",
   "execution_count": 8,
   "id": "29a23bff-6719-45e2-bac4-79b301d90d6f",
   "metadata": {},
   "outputs": [
    {
     "data": {
      "text/html": [
       "<div>\n",
       "<style scoped>\n",
       "    .dataframe tbody tr th:only-of-type {\n",
       "        vertical-align: middle;\n",
       "    }\n",
       "\n",
       "    .dataframe tbody tr th {\n",
       "        vertical-align: top;\n",
       "    }\n",
       "\n",
       "    .dataframe thead th {\n",
       "        text-align: right;\n",
       "    }\n",
       "</style>\n",
       "<table border=\"1\" class=\"dataframe\">\n",
       "  <thead>\n",
       "    <tr style=\"text-align: right;\">\n",
       "      <th></th>\n",
       "      <th>Name</th>\n",
       "      <th>Year</th>\n",
       "    </tr>\n",
       "  </thead>\n",
       "  <tbody>\n",
       "    <tr>\n",
       "      <th>1</th>\n",
       "      <td>Krushn</td>\n",
       "      <td>2007?</td>\n",
       "    </tr>\n",
       "    <tr>\n",
       "      <th>2</th>\n",
       "      <td>Devansh</td>\n",
       "      <td>2008?</td>\n",
       "    </tr>\n",
       "    <tr>\n",
       "      <th>3</th>\n",
       "      <td>Vedika</td>\n",
       "      <td>2005</td>\n",
       "    </tr>\n",
       "  </tbody>\n",
       "</table>\n",
       "</div>"
      ],
      "text/plain": [
       "      Name   Year\n",
       "1   Krushn  2007?\n",
       "2  Devansh  2008?\n",
       "3   Vedika   2005"
      ]
     },
     "execution_count": 8,
     "metadata": {},
     "output_type": "execute_result"
    }
   ],
   "source": [
    "dz"
   ]
  },
  {
   "cell_type": "code",
   "execution_count": 9,
   "id": "64da2796-91a8-456b-9ff2-860279f518a8",
   "metadata": {},
   "outputs": [
    {
     "data": {
      "text/html": [
       "<div>\n",
       "<style scoped>\n",
       "    .dataframe tbody tr th:only-of-type {\n",
       "        vertical-align: middle;\n",
       "    }\n",
       "\n",
       "    .dataframe tbody tr th {\n",
       "        vertical-align: top;\n",
       "    }\n",
       "\n",
       "    .dataframe thead th {\n",
       "        text-align: right;\n",
       "    }\n",
       "</style>\n",
       "<table border=\"1\" class=\"dataframe\">\n",
       "  <thead>\n",
       "    <tr style=\"text-align: right;\">\n",
       "      <th></th>\n",
       "      <th>Name</th>\n",
       "      <th>Year</th>\n",
       "    </tr>\n",
       "  </thead>\n",
       "  <tbody>\n",
       "    <tr>\n",
       "      <th>1</th>\n",
       "      <td>Krushn</td>\n",
       "      <td>2007?</td>\n",
       "    </tr>\n",
       "    <tr>\n",
       "      <th>3</th>\n",
       "      <td>Vedika</td>\n",
       "      <td>2005</td>\n",
       "    </tr>\n",
       "  </tbody>\n",
       "</table>\n",
       "</div>"
      ],
      "text/plain": [
       "     Name   Year\n",
       "1  Krushn  2007?\n",
       "3  Vedika   2005"
      ]
     },
     "execution_count": 9,
     "metadata": {},
     "output_type": "execute_result"
    }
   ],
   "source": [
    "for x in dz.index:\n",
    "    if dz.loc[x,'Name']=='Devansh':\n",
    "        dz.drop(x,inplace=True)\n",
    "\n",
    "dz"
   ]
  },
  {
   "cell_type": "code",
   "execution_count": 11,
   "id": "5e329abe-0271-4b7c-96e4-eb5a1c7bb89d",
   "metadata": {},
   "outputs": [
    {
     "data": {
      "text/html": [
       "<div>\n",
       "<style scoped>\n",
       "    .dataframe tbody tr th:only-of-type {\n",
       "        vertical-align: middle;\n",
       "    }\n",
       "\n",
       "    .dataframe tbody tr th {\n",
       "        vertical-align: top;\n",
       "    }\n",
       "\n",
       "    .dataframe thead th {\n",
       "        text-align: right;\n",
       "    }\n",
       "</style>\n",
       "<table border=\"1\" class=\"dataframe\">\n",
       "  <thead>\n",
       "    <tr style=\"text-align: right;\">\n",
       "      <th></th>\n",
       "      <th>Overs</th>\n",
       "      <th>Player Name</th>\n",
       "      <th>Runs</th>\n",
       "      <th>Balls</th>\n",
       "      <th>Unnamed: 4</th>\n",
       "      <th>Player</th>\n",
       "      <th>Score</th>\n",
       "      <th>Dots</th>\n",
       "      <th>Singles</th>\n",
       "      <th>Singles Runs</th>\n",
       "      <th>...</th>\n",
       "      <th>Doubles Runs</th>\n",
       "      <th>Triples</th>\n",
       "      <th>Triple Runs</th>\n",
       "      <th>Fours</th>\n",
       "      <th>Fours Runs</th>\n",
       "      <th>Sixes</th>\n",
       "      <th>Sixes Runs</th>\n",
       "      <th>Overthrow</th>\n",
       "      <th>Overthrow Runs</th>\n",
       "      <th>Total</th>\n",
       "    </tr>\n",
       "  </thead>\n",
       "  <tbody>\n",
       "    <tr>\n",
       "      <th>0</th>\n",
       "      <td>1</td>\n",
       "      <td>Cubarsi</td>\n",
       "      <td>13</td>\n",
       "      <td>6</td>\n",
       "      <td>NaN</td>\n",
       "      <td>Virat Kohli</td>\n",
       "      <td>60</td>\n",
       "      <td>3</td>\n",
       "      <td>0</td>\n",
       "      <td>0</td>\n",
       "      <td>...</td>\n",
       "      <td>6</td>\n",
       "      <td>1</td>\n",
       "      <td>3</td>\n",
       "      <td>6</td>\n",
       "      <td>24</td>\n",
       "      <td>2</td>\n",
       "      <td>12</td>\n",
       "      <td>3</td>\n",
       "      <td>15</td>\n",
       "      <td>60</td>\n",
       "    </tr>\n",
       "    <tr>\n",
       "      <th>1</th>\n",
       "      <td>2</td>\n",
       "      <td>Van Djik</td>\n",
       "      <td>16</td>\n",
       "      <td>6</td>\n",
       "      <td>NaN</td>\n",
       "      <td>Ravindra Jadeja</td>\n",
       "      <td>47</td>\n",
       "      <td>1</td>\n",
       "      <td>7</td>\n",
       "      <td>7</td>\n",
       "      <td>...</td>\n",
       "      <td>6</td>\n",
       "      <td>3</td>\n",
       "      <td>9</td>\n",
       "      <td>1</td>\n",
       "      <td>4</td>\n",
       "      <td>1</td>\n",
       "      <td>6</td>\n",
       "      <td>3</td>\n",
       "      <td>15</td>\n",
       "      <td>47</td>\n",
       "    </tr>\n",
       "    <tr>\n",
       "      <th>2</th>\n",
       "      <td>3</td>\n",
       "      <td>Sergio Ramos</td>\n",
       "      <td>20</td>\n",
       "      <td>6</td>\n",
       "      <td>NaN</td>\n",
       "      <td>Shikhar Dhawan</td>\n",
       "      <td>28</td>\n",
       "      <td>4</td>\n",
       "      <td>3</td>\n",
       "      <td>3</td>\n",
       "      <td>...</td>\n",
       "      <td>0</td>\n",
       "      <td>2</td>\n",
       "      <td>6</td>\n",
       "      <td>1</td>\n",
       "      <td>4</td>\n",
       "      <td>0</td>\n",
       "      <td>0</td>\n",
       "      <td>3</td>\n",
       "      <td>15</td>\n",
       "      <td>28</td>\n",
       "    </tr>\n",
       "    <tr>\n",
       "      <th>3</th>\n",
       "      <td>4</td>\n",
       "      <td>Cubarsi</td>\n",
       "      <td>11</td>\n",
       "      <td>6</td>\n",
       "      <td>NaN</td>\n",
       "      <td>Jasprit Bumrah</td>\n",
       "      <td>20</td>\n",
       "      <td>3</td>\n",
       "      <td>2</td>\n",
       "      <td>2</td>\n",
       "      <td>...</td>\n",
       "      <td>0</td>\n",
       "      <td>1</td>\n",
       "      <td>3</td>\n",
       "      <td>1</td>\n",
       "      <td>4</td>\n",
       "      <td>1</td>\n",
       "      <td>6</td>\n",
       "      <td>1</td>\n",
       "      <td>5</td>\n",
       "      <td>20</td>\n",
       "    </tr>\n",
       "    <tr>\n",
       "      <th>4</th>\n",
       "      <td>5</td>\n",
       "      <td>Pedri</td>\n",
       "      <td>16</td>\n",
       "      <td>6</td>\n",
       "      <td>NaN</td>\n",
       "      <td>Parthiv Patel</td>\n",
       "      <td>22</td>\n",
       "      <td>1</td>\n",
       "      <td>0</td>\n",
       "      <td>0</td>\n",
       "      <td>...</td>\n",
       "      <td>2</td>\n",
       "      <td>3</td>\n",
       "      <td>9</td>\n",
       "      <td>0</td>\n",
       "      <td>0</td>\n",
       "      <td>1</td>\n",
       "      <td>6</td>\n",
       "      <td>1</td>\n",
       "      <td>5</td>\n",
       "      <td>22</td>\n",
       "    </tr>\n",
       "    <tr>\n",
       "      <th>5</th>\n",
       "      <td>6</td>\n",
       "      <td>Sergio Ramos</td>\n",
       "      <td>24</td>\n",
       "      <td>6</td>\n",
       "      <td>NaN</td>\n",
       "      <td>Hardik Pandya</td>\n",
       "      <td>11</td>\n",
       "      <td>3</td>\n",
       "      <td>0</td>\n",
       "      <td>0</td>\n",
       "      <td>...</td>\n",
       "      <td>8</td>\n",
       "      <td>1</td>\n",
       "      <td>3</td>\n",
       "      <td>0</td>\n",
       "      <td>0</td>\n",
       "      <td>0</td>\n",
       "      <td>0</td>\n",
       "      <td>0</td>\n",
       "      <td>0</td>\n",
       "      <td>11</td>\n",
       "    </tr>\n",
       "    <tr>\n",
       "      <th>6</th>\n",
       "      <td>7</td>\n",
       "      <td>Gavi</td>\n",
       "      <td>12</td>\n",
       "      <td>6</td>\n",
       "      <td>NaN</td>\n",
       "      <td>Sunil Gavaskar</td>\n",
       "      <td>18</td>\n",
       "      <td>0</td>\n",
       "      <td>0</td>\n",
       "      <td>1</td>\n",
       "      <td>...</td>\n",
       "      <td>2</td>\n",
       "      <td>0</td>\n",
       "      <td>0</td>\n",
       "      <td>0</td>\n",
       "      <td>0</td>\n",
       "      <td>0</td>\n",
       "      <td>0</td>\n",
       "      <td>3</td>\n",
       "      <td>15</td>\n",
       "      <td>18</td>\n",
       "    </tr>\n",
       "    <tr>\n",
       "      <th>7</th>\n",
       "      <td>8</td>\n",
       "      <td>Kimmich</td>\n",
       "      <td>16</td>\n",
       "      <td>6</td>\n",
       "      <td>NaN</td>\n",
       "      <td>Rohit Sharma (C)</td>\n",
       "      <td>9</td>\n",
       "      <td>0</td>\n",
       "      <td>0</td>\n",
       "      <td>0</td>\n",
       "      <td>...</td>\n",
       "      <td>2</td>\n",
       "      <td>1</td>\n",
       "      <td>3</td>\n",
       "      <td>1</td>\n",
       "      <td>4</td>\n",
       "      <td>0</td>\n",
       "      <td>0</td>\n",
       "      <td>0</td>\n",
       "      <td>0</td>\n",
       "      <td>9</td>\n",
       "    </tr>\n",
       "    <tr>\n",
       "      <th>8</th>\n",
       "      <td>9</td>\n",
       "      <td>Van Djik</td>\n",
       "      <td>7</td>\n",
       "      <td>6</td>\n",
       "      <td>NaN</td>\n",
       "      <td>Sachin Tendulkar</td>\n",
       "      <td>9</td>\n",
       "      <td>1</td>\n",
       "      <td>0</td>\n",
       "      <td>0</td>\n",
       "      <td>...</td>\n",
       "      <td>0</td>\n",
       "      <td>3</td>\n",
       "      <td>9</td>\n",
       "      <td>0</td>\n",
       "      <td>0</td>\n",
       "      <td>0</td>\n",
       "      <td>0</td>\n",
       "      <td>0</td>\n",
       "      <td>0</td>\n",
       "      <td>9</td>\n",
       "    </tr>\n",
       "    <tr>\n",
       "      <th>9</th>\n",
       "      <td>10</td>\n",
       "      <td>Gavi</td>\n",
       "      <td>10</td>\n",
       "      <td>6</td>\n",
       "      <td>NaN</td>\n",
       "      <td>Ravi Shastri (VC)</td>\n",
       "      <td>10</td>\n",
       "      <td>1</td>\n",
       "      <td>0</td>\n",
       "      <td>0</td>\n",
       "      <td>...</td>\n",
       "      <td>0</td>\n",
       "      <td>0</td>\n",
       "      <td>0</td>\n",
       "      <td>1</td>\n",
       "      <td>4</td>\n",
       "      <td>1</td>\n",
       "      <td>6</td>\n",
       "      <td>0</td>\n",
       "      <td>0</td>\n",
       "      <td>10</td>\n",
       "    </tr>\n",
       "    <tr>\n",
       "      <th>10</th>\n",
       "      <td>11</td>\n",
       "      <td>Van Djik</td>\n",
       "      <td>14</td>\n",
       "      <td>6</td>\n",
       "      <td>NaN</td>\n",
       "      <td>NaN</td>\n",
       "      <td>NaN</td>\n",
       "      <td>NaN</td>\n",
       "      <td>NaN</td>\n",
       "      <td>NaN</td>\n",
       "      <td>...</td>\n",
       "      <td>NaN</td>\n",
       "      <td>NaN</td>\n",
       "      <td>NaN</td>\n",
       "      <td>NaN</td>\n",
       "      <td>NaN</td>\n",
       "      <td>NaN</td>\n",
       "      <td>NaN</td>\n",
       "      <td>NaN</td>\n",
       "      <td>NaN</td>\n",
       "      <td>NaN</td>\n",
       "    </tr>\n",
       "    <tr>\n",
       "      <th>11</th>\n",
       "      <td>12</td>\n",
       "      <td>Cubarsi</td>\n",
       "      <td>10</td>\n",
       "      <td>6</td>\n",
       "      <td>NaN</td>\n",
       "      <td>NaN</td>\n",
       "      <td>NaN</td>\n",
       "      <td>NaN</td>\n",
       "      <td>NaN</td>\n",
       "      <td>NaN</td>\n",
       "      <td>...</td>\n",
       "      <td>NaN</td>\n",
       "      <td>NaN</td>\n",
       "      <td>NaN</td>\n",
       "      <td>NaN</td>\n",
       "      <td>NaN</td>\n",
       "      <td>NaN</td>\n",
       "      <td>NaN</td>\n",
       "      <td>NaN</td>\n",
       "      <td>NaN</td>\n",
       "      <td>NaN</td>\n",
       "    </tr>\n",
       "    <tr>\n",
       "      <th>12</th>\n",
       "      <td>13</td>\n",
       "      <td>Pedri</td>\n",
       "      <td>11</td>\n",
       "      <td>6</td>\n",
       "      <td>NaN</td>\n",
       "      <td>Player</td>\n",
       "      <td>Wickets</td>\n",
       "      <td>Runs</td>\n",
       "      <td>Bowls</td>\n",
       "      <td>Overs</td>\n",
       "      <td>...</td>\n",
       "      <td>Boundry Score (4)</td>\n",
       "      <td>Boundry (6)</td>\n",
       "      <td>Boundry Score (6)</td>\n",
       "      <td>Total Boundry Score</td>\n",
       "      <td>Dots</td>\n",
       "      <td>No Ball (NB)</td>\n",
       "      <td>Wide (WD)</td>\n",
       "      <td>Leg Bye (LB) Balls</td>\n",
       "      <td>Leg Bye (LB) Runs</td>\n",
       "      <td>Total Extras</td>\n",
       "    </tr>\n",
       "    <tr>\n",
       "      <th>13</th>\n",
       "      <td>14</td>\n",
       "      <td>Sergio Ramos</td>\n",
       "      <td>13</td>\n",
       "      <td>6</td>\n",
       "      <td>NaN</td>\n",
       "      <td>Van Djik</td>\n",
       "      <td>4</td>\n",
       "      <td>49</td>\n",
       "      <td>24</td>\n",
       "      <td>4</td>\n",
       "      <td>...</td>\n",
       "      <td>0</td>\n",
       "      <td>1</td>\n",
       "      <td>6</td>\n",
       "      <td>6</td>\n",
       "      <td>3</td>\n",
       "      <td>3</td>\n",
       "      <td>0</td>\n",
       "      <td>2</td>\n",
       "      <td>6</td>\n",
       "      <td>9</td>\n",
       "    </tr>\n",
       "    <tr>\n",
       "      <th>14</th>\n",
       "      <td>15</td>\n",
       "      <td>Kimmich</td>\n",
       "      <td>17</td>\n",
       "      <td>6</td>\n",
       "      <td>NaN</td>\n",
       "      <td>Sergio Ramos</td>\n",
       "      <td>2</td>\n",
       "      <td>67</td>\n",
       "      <td>24</td>\n",
       "      <td>4</td>\n",
       "      <td>...</td>\n",
       "      <td>12</td>\n",
       "      <td>2</td>\n",
       "      <td>12</td>\n",
       "      <td>24</td>\n",
       "      <td>3</td>\n",
       "      <td>0</td>\n",
       "      <td>1</td>\n",
       "      <td>0</td>\n",
       "      <td>0</td>\n",
       "      <td>1</td>\n",
       "    </tr>\n",
       "    <tr>\n",
       "      <th>15</th>\n",
       "      <td>16</td>\n",
       "      <td>Van Djik</td>\n",
       "      <td>12</td>\n",
       "      <td>6</td>\n",
       "      <td>NaN</td>\n",
       "      <td>Cubarsi</td>\n",
       "      <td>2</td>\n",
       "      <td>47</td>\n",
       "      <td>24</td>\n",
       "      <td>4</td>\n",
       "      <td>...</td>\n",
       "      <td>4</td>\n",
       "      <td>3</td>\n",
       "      <td>18</td>\n",
       "      <td>22</td>\n",
       "      <td>5</td>\n",
       "      <td>0</td>\n",
       "      <td>1</td>\n",
       "      <td>2</td>\n",
       "      <td>6</td>\n",
       "      <td>7</td>\n",
       "    </tr>\n",
       "    <tr>\n",
       "      <th>16</th>\n",
       "      <td>17</td>\n",
       "      <td>Sergio Ramos</td>\n",
       "      <td>10</td>\n",
       "      <td>6</td>\n",
       "      <td>NaN</td>\n",
       "      <td>Kimmich</td>\n",
       "      <td>1</td>\n",
       "      <td>33</td>\n",
       "      <td>12</td>\n",
       "      <td>2</td>\n",
       "      <td>...</td>\n",
       "      <td>8</td>\n",
       "      <td>0</td>\n",
       "      <td>0</td>\n",
       "      <td>8</td>\n",
       "      <td>1</td>\n",
       "      <td>1</td>\n",
       "      <td>0</td>\n",
       "      <td>1</td>\n",
       "      <td>3</td>\n",
       "      <td>4</td>\n",
       "    </tr>\n",
       "    <tr>\n",
       "      <th>17</th>\n",
       "      <td>18</td>\n",
       "      <td>Pedri</td>\n",
       "      <td>19</td>\n",
       "      <td>6</td>\n",
       "      <td>NaN</td>\n",
       "      <td>Gavi</td>\n",
       "      <td>0</td>\n",
       "      <td>22</td>\n",
       "      <td>12</td>\n",
       "      <td>2</td>\n",
       "      <td>...</td>\n",
       "      <td>8</td>\n",
       "      <td>0</td>\n",
       "      <td>0</td>\n",
       "      <td>8</td>\n",
       "      <td>2</td>\n",
       "      <td>2</td>\n",
       "      <td>1</td>\n",
       "      <td>0</td>\n",
       "      <td>0</td>\n",
       "      <td>3</td>\n",
       "    </tr>\n",
       "    <tr>\n",
       "      <th>18</th>\n",
       "      <td>19</td>\n",
       "      <td>Cubarsi</td>\n",
       "      <td>13</td>\n",
       "      <td>6</td>\n",
       "      <td>NaN</td>\n",
       "      <td>Pedri</td>\n",
       "      <td>1</td>\n",
       "      <td>48</td>\n",
       "      <td>20</td>\n",
       "      <td>3.2</td>\n",
       "      <td>...</td>\n",
       "      <td>20</td>\n",
       "      <td>0</td>\n",
       "      <td>0</td>\n",
       "      <td>20</td>\n",
       "      <td>5</td>\n",
       "      <td>1</td>\n",
       "      <td>1</td>\n",
       "      <td>2</td>\n",
       "      <td>6</td>\n",
       "      <td>8</td>\n",
       "    </tr>\n",
       "    <tr>\n",
       "      <th>19</th>\n",
       "      <td>20</td>\n",
       "      <td>Pedri</td>\n",
       "      <td>2</td>\n",
       "      <td>2</td>\n",
       "      <td>NaN</td>\n",
       "      <td>NaN</td>\n",
       "      <td>NaN</td>\n",
       "      <td>NaN</td>\n",
       "      <td>NaN</td>\n",
       "      <td>NaN</td>\n",
       "      <td>...</td>\n",
       "      <td>NaN</td>\n",
       "      <td>NaN</td>\n",
       "      <td>NaN</td>\n",
       "      <td>NaN</td>\n",
       "      <td>NaN</td>\n",
       "      <td>NaN</td>\n",
       "      <td>NaN</td>\n",
       "      <td>NaN</td>\n",
       "      <td>NaN</td>\n",
       "      <td>NaN</td>\n",
       "    </tr>\n",
       "  </tbody>\n",
       "</table>\n",
       "<p>20 rows × 21 columns</p>\n",
       "</div>"
      ],
      "text/plain": [
       "    Overs   Player Name  Runs  Balls  Unnamed: 4             Player    Score  \\\n",
       "0       1       Cubarsi    13      6         NaN        Virat Kohli       60   \n",
       "1       2      Van Djik    16      6         NaN   Ravindra Jadeja        47   \n",
       "2       3  Sergio Ramos    20      6         NaN     Shikhar Dhawan       28   \n",
       "3       4       Cubarsi    11      6         NaN     Jasprit Bumrah       20   \n",
       "4       5         Pedri    16      6         NaN      Parthiv Patel       22   \n",
       "5       6  Sergio Ramos    24      6         NaN     Hardik Pandya        11   \n",
       "6       7          Gavi    12      6         NaN     Sunil Gavaskar       18   \n",
       "7       8       Kimmich    16      6         NaN   Rohit Sharma (C)        9   \n",
       "8       9      Van Djik     7      6         NaN   Sachin Tendulkar        9   \n",
       "9      10          Gavi    10      6         NaN  Ravi Shastri (VC)       10   \n",
       "10     11      Van Djik    14      6         NaN                NaN      NaN   \n",
       "11     12       Cubarsi    10      6         NaN                NaN      NaN   \n",
       "12     13         Pedri    11      6         NaN             Player  Wickets   \n",
       "13     14  Sergio Ramos    13      6         NaN           Van Djik        4   \n",
       "14     15       Kimmich    17      6         NaN       Sergio Ramos        2   \n",
       "15     16      Van Djik    12      6         NaN            Cubarsi        2   \n",
       "16     17  Sergio Ramos    10      6         NaN            Kimmich        1   \n",
       "17     18         Pedri    19      6         NaN               Gavi        0   \n",
       "18     19       Cubarsi    13      6         NaN              Pedri        1   \n",
       "19     20         Pedri     2      2         NaN                NaN      NaN   \n",
       "\n",
       "    Dots Singles Singles Runs  ...       Doubles Runs      Triples  \\\n",
       "0      3       0            0  ...                  6            1   \n",
       "1      1       7            7  ...                  6            3   \n",
       "2      4       3            3  ...                  0            2   \n",
       "3      3       2            2  ...                  0            1   \n",
       "4      1       0            0  ...                  2            3   \n",
       "5      3       0            0  ...                  8            1   \n",
       "6      0       0            1  ...                  2            0   \n",
       "7      0       0            0  ...                  2            1   \n",
       "8      1       0            0  ...                  0            3   \n",
       "9      1       0            0  ...                  0            0   \n",
       "10   NaN     NaN          NaN  ...                NaN          NaN   \n",
       "11   NaN     NaN          NaN  ...                NaN          NaN   \n",
       "12  Runs   Bowls        Overs  ...  Boundry Score (4)  Boundry (6)   \n",
       "13    49      24            4  ...                  0            1   \n",
       "14    67      24            4  ...                 12            2   \n",
       "15    47      24            4  ...                  4            3   \n",
       "16    33      12            2  ...                  8            0   \n",
       "17    22      12            2  ...                  8            0   \n",
       "18    48      20          3.2  ...                 20            0   \n",
       "19   NaN     NaN          NaN  ...                NaN          NaN   \n",
       "\n",
       "          Triple Runs                Fours Fours Runs         Sixes  \\\n",
       "0                   3                    6         24             2   \n",
       "1                   9                    1          4             1   \n",
       "2                   6                    1          4             0   \n",
       "3                   3                    1          4             1   \n",
       "4                   9                    0          0             1   \n",
       "5                   3                    0          0             0   \n",
       "6                   0                    0          0             0   \n",
       "7                   3                    1          4             0   \n",
       "8                   9                    0          0             0   \n",
       "9                   0                    1          4             1   \n",
       "10                NaN                  NaN        NaN           NaN   \n",
       "11                NaN                  NaN        NaN           NaN   \n",
       "12  Boundry Score (6)  Total Boundry Score       Dots  No Ball (NB)   \n",
       "13                  6                    6          3             3   \n",
       "14                 12                   24          3             0   \n",
       "15                 18                   22          5             0   \n",
       "16                  0                    8          1             1   \n",
       "17                  0                    8          2             2   \n",
       "18                  0                   20          5             1   \n",
       "19                NaN                  NaN        NaN           NaN   \n",
       "\n",
       "   Sixes Runs           Overthrow     Overthrow Runs         Total  \n",
       "0          12                   3                 15            60  \n",
       "1           6                   3                 15            47  \n",
       "2           0                   3                 15            28  \n",
       "3           6                   1                  5            20  \n",
       "4           6                   1                  5            22  \n",
       "5           0                   0                  0            11  \n",
       "6           0                   3                 15            18  \n",
       "7           0                   0                  0             9  \n",
       "8           0                   0                  0             9  \n",
       "9           6                   0                  0            10  \n",
       "10        NaN                 NaN                NaN           NaN  \n",
       "11        NaN                 NaN                NaN           NaN  \n",
       "12  Wide (WD)  Leg Bye (LB) Balls  Leg Bye (LB) Runs  Total Extras  \n",
       "13          0                   2                  6             9  \n",
       "14          1                   0                  0             1  \n",
       "15          1                   2                  6             7  \n",
       "16          0                   1                  3             4  \n",
       "17          1                   0                  0             3  \n",
       "18          1                   2                  6             8  \n",
       "19        NaN                 NaN                NaN           NaN  \n",
       "\n",
       "[20 rows x 21 columns]"
      ]
     },
     "execution_count": 11,
     "metadata": {},
     "output_type": "execute_result"
    }
   ],
   "source": [
    "import numpy as np\n",
    "import pandas as pd\n",
    "import matplotlib.pyplot as plt\n",
    "gh=pd.read_excel(r\"D:\\Desktop\\Python\\Matplotlib\\Cricket_1_2.xlsx\")\n",
    "gh"
   ]
  },
  {
   "cell_type": "code",
   "execution_count": 18,
   "id": "7314cb1a-39f9-4f25-81f3-b1148154362c",
   "metadata": {},
   "outputs": [
    {
     "data": {
      "text/html": [
       "<div>\n",
       "<style scoped>\n",
       "    .dataframe tbody tr th:only-of-type {\n",
       "        vertical-align: middle;\n",
       "    }\n",
       "\n",
       "    .dataframe tbody tr th {\n",
       "        vertical-align: top;\n",
       "    }\n",
       "\n",
       "    .dataframe thead th {\n",
       "        text-align: right;\n",
       "    }\n",
       "</style>\n",
       "<table border=\"1\" class=\"dataframe\">\n",
       "  <thead>\n",
       "    <tr style=\"text-align: right;\">\n",
       "      <th></th>\n",
       "      <th>Overs</th>\n",
       "      <th>Player Name</th>\n",
       "      <th>Runs</th>\n",
       "      <th>Balls</th>\n",
       "      <th>Unnamed: 4</th>\n",
       "      <th>Player</th>\n",
       "      <th>Score</th>\n",
       "      <th>Dots</th>\n",
       "      <th>Singles</th>\n",
       "      <th>Singles Runs</th>\n",
       "      <th>...</th>\n",
       "      <th>Doubles Runs</th>\n",
       "      <th>Triples</th>\n",
       "      <th>Triple Runs</th>\n",
       "      <th>Fours</th>\n",
       "      <th>Fours Runs</th>\n",
       "      <th>Sixes</th>\n",
       "      <th>Sixes Runs</th>\n",
       "      <th>Overthrow</th>\n",
       "      <th>Overthrow Runs</th>\n",
       "      <th>Total</th>\n",
       "    </tr>\n",
       "  </thead>\n",
       "  <tbody>\n",
       "    <tr>\n",
       "      <th>0</th>\n",
       "      <td>1</td>\n",
       "      <td>Cubarsi</td>\n",
       "      <td>13</td>\n",
       "      <td>6</td>\n",
       "      <td>NaN</td>\n",
       "      <td>Virat Kohli</td>\n",
       "      <td>60</td>\n",
       "      <td>3</td>\n",
       "      <td>0</td>\n",
       "      <td>0</td>\n",
       "      <td>...</td>\n",
       "      <td>6</td>\n",
       "      <td>1</td>\n",
       "      <td>3</td>\n",
       "      <td>6</td>\n",
       "      <td>24</td>\n",
       "      <td>2</td>\n",
       "      <td>12</td>\n",
       "      <td>3</td>\n",
       "      <td>15</td>\n",
       "      <td>60</td>\n",
       "    </tr>\n",
       "    <tr>\n",
       "      <th>1</th>\n",
       "      <td>2</td>\n",
       "      <td>Van Djik</td>\n",
       "      <td>16</td>\n",
       "      <td>6</td>\n",
       "      <td>NaN</td>\n",
       "      <td>Ravindra Jadeja</td>\n",
       "      <td>47</td>\n",
       "      <td>1</td>\n",
       "      <td>7</td>\n",
       "      <td>7</td>\n",
       "      <td>...</td>\n",
       "      <td>6</td>\n",
       "      <td>3</td>\n",
       "      <td>9</td>\n",
       "      <td>1</td>\n",
       "      <td>4</td>\n",
       "      <td>1</td>\n",
       "      <td>6</td>\n",
       "      <td>3</td>\n",
       "      <td>15</td>\n",
       "      <td>47</td>\n",
       "    </tr>\n",
       "    <tr>\n",
       "      <th>2</th>\n",
       "      <td>3</td>\n",
       "      <td>Sergio Ramos</td>\n",
       "      <td>20</td>\n",
       "      <td>6</td>\n",
       "      <td>NaN</td>\n",
       "      <td>Shikhar Dhawan</td>\n",
       "      <td>28</td>\n",
       "      <td>4</td>\n",
       "      <td>3</td>\n",
       "      <td>3</td>\n",
       "      <td>...</td>\n",
       "      <td>0</td>\n",
       "      <td>2</td>\n",
       "      <td>6</td>\n",
       "      <td>1</td>\n",
       "      <td>4</td>\n",
       "      <td>0</td>\n",
       "      <td>0</td>\n",
       "      <td>3</td>\n",
       "      <td>15</td>\n",
       "      <td>28</td>\n",
       "    </tr>\n",
       "    <tr>\n",
       "      <th>3</th>\n",
       "      <td>4</td>\n",
       "      <td>Cubarsi</td>\n",
       "      <td>11</td>\n",
       "      <td>6</td>\n",
       "      <td>NaN</td>\n",
       "      <td>Jasprit Bumrah</td>\n",
       "      <td>20</td>\n",
       "      <td>3</td>\n",
       "      <td>2</td>\n",
       "      <td>2</td>\n",
       "      <td>...</td>\n",
       "      <td>0</td>\n",
       "      <td>1</td>\n",
       "      <td>3</td>\n",
       "      <td>1</td>\n",
       "      <td>4</td>\n",
       "      <td>1</td>\n",
       "      <td>6</td>\n",
       "      <td>1</td>\n",
       "      <td>5</td>\n",
       "      <td>20</td>\n",
       "    </tr>\n",
       "    <tr>\n",
       "      <th>4</th>\n",
       "      <td>5</td>\n",
       "      <td>Pedri</td>\n",
       "      <td>16</td>\n",
       "      <td>6</td>\n",
       "      <td>NaN</td>\n",
       "      <td>Parthiv Patel</td>\n",
       "      <td>22</td>\n",
       "      <td>1</td>\n",
       "      <td>0</td>\n",
       "      <td>0</td>\n",
       "      <td>...</td>\n",
       "      <td>2</td>\n",
       "      <td>3</td>\n",
       "      <td>9</td>\n",
       "      <td>0</td>\n",
       "      <td>0</td>\n",
       "      <td>1</td>\n",
       "      <td>6</td>\n",
       "      <td>1</td>\n",
       "      <td>5</td>\n",
       "      <td>22</td>\n",
       "    </tr>\n",
       "    <tr>\n",
       "      <th>5</th>\n",
       "      <td>6</td>\n",
       "      <td>Sergio Ramos</td>\n",
       "      <td>24</td>\n",
       "      <td>6</td>\n",
       "      <td>NaN</td>\n",
       "      <td>Hardik Pandya</td>\n",
       "      <td>11</td>\n",
       "      <td>3</td>\n",
       "      <td>0</td>\n",
       "      <td>0</td>\n",
       "      <td>...</td>\n",
       "      <td>8</td>\n",
       "      <td>1</td>\n",
       "      <td>3</td>\n",
       "      <td>0</td>\n",
       "      <td>0</td>\n",
       "      <td>0</td>\n",
       "      <td>0</td>\n",
       "      <td>0</td>\n",
       "      <td>0</td>\n",
       "      <td>11</td>\n",
       "    </tr>\n",
       "    <tr>\n",
       "      <th>6</th>\n",
       "      <td>7</td>\n",
       "      <td>Gavi</td>\n",
       "      <td>12</td>\n",
       "      <td>6</td>\n",
       "      <td>NaN</td>\n",
       "      <td>Sunil Gavaskar</td>\n",
       "      <td>18</td>\n",
       "      <td>0</td>\n",
       "      <td>0</td>\n",
       "      <td>1</td>\n",
       "      <td>...</td>\n",
       "      <td>2</td>\n",
       "      <td>0</td>\n",
       "      <td>0</td>\n",
       "      <td>0</td>\n",
       "      <td>0</td>\n",
       "      <td>0</td>\n",
       "      <td>0</td>\n",
       "      <td>3</td>\n",
       "      <td>15</td>\n",
       "      <td>18</td>\n",
       "    </tr>\n",
       "    <tr>\n",
       "      <th>7</th>\n",
       "      <td>8</td>\n",
       "      <td>Kimmich</td>\n",
       "      <td>16</td>\n",
       "      <td>6</td>\n",
       "      <td>NaN</td>\n",
       "      <td>Rohit Sharma (C)</td>\n",
       "      <td>9</td>\n",
       "      <td>0</td>\n",
       "      <td>0</td>\n",
       "      <td>0</td>\n",
       "      <td>...</td>\n",
       "      <td>2</td>\n",
       "      <td>1</td>\n",
       "      <td>3</td>\n",
       "      <td>1</td>\n",
       "      <td>4</td>\n",
       "      <td>0</td>\n",
       "      <td>0</td>\n",
       "      <td>0</td>\n",
       "      <td>0</td>\n",
       "      <td>9</td>\n",
       "    </tr>\n",
       "    <tr>\n",
       "      <th>8</th>\n",
       "      <td>9</td>\n",
       "      <td>Van Djik</td>\n",
       "      <td>7</td>\n",
       "      <td>6</td>\n",
       "      <td>NaN</td>\n",
       "      <td>Sachin Tendulkar</td>\n",
       "      <td>9</td>\n",
       "      <td>1</td>\n",
       "      <td>0</td>\n",
       "      <td>0</td>\n",
       "      <td>...</td>\n",
       "      <td>0</td>\n",
       "      <td>3</td>\n",
       "      <td>9</td>\n",
       "      <td>0</td>\n",
       "      <td>0</td>\n",
       "      <td>0</td>\n",
       "      <td>0</td>\n",
       "      <td>0</td>\n",
       "      <td>0</td>\n",
       "      <td>9</td>\n",
       "    </tr>\n",
       "    <tr>\n",
       "      <th>9</th>\n",
       "      <td>10</td>\n",
       "      <td>Gavi</td>\n",
       "      <td>10</td>\n",
       "      <td>6</td>\n",
       "      <td>NaN</td>\n",
       "      <td>Ravi Shastri (VC)</td>\n",
       "      <td>10</td>\n",
       "      <td>1</td>\n",
       "      <td>0</td>\n",
       "      <td>0</td>\n",
       "      <td>...</td>\n",
       "      <td>0</td>\n",
       "      <td>0</td>\n",
       "      <td>0</td>\n",
       "      <td>1</td>\n",
       "      <td>4</td>\n",
       "      <td>1</td>\n",
       "      <td>6</td>\n",
       "      <td>0</td>\n",
       "      <td>0</td>\n",
       "      <td>10</td>\n",
       "    </tr>\n",
       "    <tr>\n",
       "      <th>10</th>\n",
       "      <td>11</td>\n",
       "      <td>Van Djik</td>\n",
       "      <td>14</td>\n",
       "      <td>6</td>\n",
       "      <td>NaN</td>\n",
       "      <td>NaN</td>\n",
       "      <td>NaN</td>\n",
       "      <td>NaN</td>\n",
       "      <td>NaN</td>\n",
       "      <td>NaN</td>\n",
       "      <td>...</td>\n",
       "      <td>NaN</td>\n",
       "      <td>NaN</td>\n",
       "      <td>NaN</td>\n",
       "      <td>NaN</td>\n",
       "      <td>NaN</td>\n",
       "      <td>NaN</td>\n",
       "      <td>NaN</td>\n",
       "      <td>NaN</td>\n",
       "      <td>NaN</td>\n",
       "      <td>NaN</td>\n",
       "    </tr>\n",
       "    <tr>\n",
       "      <th>11</th>\n",
       "      <td>12</td>\n",
       "      <td>Cubarsi</td>\n",
       "      <td>10</td>\n",
       "      <td>6</td>\n",
       "      <td>NaN</td>\n",
       "      <td>NaN</td>\n",
       "      <td>NaN</td>\n",
       "      <td>NaN</td>\n",
       "      <td>NaN</td>\n",
       "      <td>NaN</td>\n",
       "      <td>...</td>\n",
       "      <td>NaN</td>\n",
       "      <td>NaN</td>\n",
       "      <td>NaN</td>\n",
       "      <td>NaN</td>\n",
       "      <td>NaN</td>\n",
       "      <td>NaN</td>\n",
       "      <td>NaN</td>\n",
       "      <td>NaN</td>\n",
       "      <td>NaN</td>\n",
       "      <td>NaN</td>\n",
       "    </tr>\n",
       "    <tr>\n",
       "      <th>12</th>\n",
       "      <td>13</td>\n",
       "      <td>Pedri</td>\n",
       "      <td>11</td>\n",
       "      <td>6</td>\n",
       "      <td>NaN</td>\n",
       "      <td>Player</td>\n",
       "      <td>Wickets</td>\n",
       "      <td>Runs</td>\n",
       "      <td>Bowls</td>\n",
       "      <td>Overs</td>\n",
       "      <td>...</td>\n",
       "      <td>Boundry Score (4)</td>\n",
       "      <td>Boundry (6)</td>\n",
       "      <td>Boundry Score (6)</td>\n",
       "      <td>Total Boundry Score</td>\n",
       "      <td>Dots</td>\n",
       "      <td>No Ball (NB)</td>\n",
       "      <td>Wide (WD)</td>\n",
       "      <td>Leg Bye (LB) Balls</td>\n",
       "      <td>Leg Bye (LB) Runs</td>\n",
       "      <td>Total Extras</td>\n",
       "    </tr>\n",
       "    <tr>\n",
       "      <th>13</th>\n",
       "      <td>14</td>\n",
       "      <td>Sergio Ramos</td>\n",
       "      <td>13</td>\n",
       "      <td>6</td>\n",
       "      <td>NaN</td>\n",
       "      <td>Van Djik</td>\n",
       "      <td>4</td>\n",
       "      <td>49</td>\n",
       "      <td>24</td>\n",
       "      <td>4</td>\n",
       "      <td>...</td>\n",
       "      <td>0</td>\n",
       "      <td>1</td>\n",
       "      <td>6</td>\n",
       "      <td>6</td>\n",
       "      <td>3</td>\n",
       "      <td>3</td>\n",
       "      <td>0</td>\n",
       "      <td>2</td>\n",
       "      <td>6</td>\n",
       "      <td>9</td>\n",
       "    </tr>\n",
       "    <tr>\n",
       "      <th>14</th>\n",
       "      <td>15</td>\n",
       "      <td>Kimmich</td>\n",
       "      <td>17</td>\n",
       "      <td>6</td>\n",
       "      <td>NaN</td>\n",
       "      <td>Sergio Ramos</td>\n",
       "      <td>2</td>\n",
       "      <td>67</td>\n",
       "      <td>24</td>\n",
       "      <td>4</td>\n",
       "      <td>...</td>\n",
       "      <td>12</td>\n",
       "      <td>2</td>\n",
       "      <td>12</td>\n",
       "      <td>24</td>\n",
       "      <td>3</td>\n",
       "      <td>0</td>\n",
       "      <td>1</td>\n",
       "      <td>0</td>\n",
       "      <td>0</td>\n",
       "      <td>1</td>\n",
       "    </tr>\n",
       "    <tr>\n",
       "      <th>15</th>\n",
       "      <td>16</td>\n",
       "      <td>Van Djik</td>\n",
       "      <td>12</td>\n",
       "      <td>6</td>\n",
       "      <td>NaN</td>\n",
       "      <td>Cubarsi</td>\n",
       "      <td>2</td>\n",
       "      <td>47</td>\n",
       "      <td>24</td>\n",
       "      <td>4</td>\n",
       "      <td>...</td>\n",
       "      <td>4</td>\n",
       "      <td>3</td>\n",
       "      <td>18</td>\n",
       "      <td>22</td>\n",
       "      <td>5</td>\n",
       "      <td>0</td>\n",
       "      <td>1</td>\n",
       "      <td>2</td>\n",
       "      <td>6</td>\n",
       "      <td>7</td>\n",
       "    </tr>\n",
       "    <tr>\n",
       "      <th>16</th>\n",
       "      <td>17</td>\n",
       "      <td>Sergio Ramos</td>\n",
       "      <td>10</td>\n",
       "      <td>6</td>\n",
       "      <td>NaN</td>\n",
       "      <td>Kimmich</td>\n",
       "      <td>1</td>\n",
       "      <td>33</td>\n",
       "      <td>12</td>\n",
       "      <td>2</td>\n",
       "      <td>...</td>\n",
       "      <td>8</td>\n",
       "      <td>0</td>\n",
       "      <td>0</td>\n",
       "      <td>8</td>\n",
       "      <td>1</td>\n",
       "      <td>1</td>\n",
       "      <td>0</td>\n",
       "      <td>1</td>\n",
       "      <td>3</td>\n",
       "      <td>4</td>\n",
       "    </tr>\n",
       "    <tr>\n",
       "      <th>17</th>\n",
       "      <td>18</td>\n",
       "      <td>Pedri</td>\n",
       "      <td>19</td>\n",
       "      <td>6</td>\n",
       "      <td>NaN</td>\n",
       "      <td>Gavi</td>\n",
       "      <td>0</td>\n",
       "      <td>22</td>\n",
       "      <td>12</td>\n",
       "      <td>2</td>\n",
       "      <td>...</td>\n",
       "      <td>8</td>\n",
       "      <td>0</td>\n",
       "      <td>0</td>\n",
       "      <td>8</td>\n",
       "      <td>2</td>\n",
       "      <td>2</td>\n",
       "      <td>1</td>\n",
       "      <td>0</td>\n",
       "      <td>0</td>\n",
       "      <td>3</td>\n",
       "    </tr>\n",
       "    <tr>\n",
       "      <th>18</th>\n",
       "      <td>19</td>\n",
       "      <td>Cubarsi</td>\n",
       "      <td>13</td>\n",
       "      <td>6</td>\n",
       "      <td>NaN</td>\n",
       "      <td>Pedri</td>\n",
       "      <td>1</td>\n",
       "      <td>48</td>\n",
       "      <td>20</td>\n",
       "      <td>3.2</td>\n",
       "      <td>...</td>\n",
       "      <td>20</td>\n",
       "      <td>0</td>\n",
       "      <td>0</td>\n",
       "      <td>20</td>\n",
       "      <td>5</td>\n",
       "      <td>1</td>\n",
       "      <td>1</td>\n",
       "      <td>2</td>\n",
       "      <td>6</td>\n",
       "      <td>8</td>\n",
       "    </tr>\n",
       "    <tr>\n",
       "      <th>19</th>\n",
       "      <td>20</td>\n",
       "      <td>Pedri</td>\n",
       "      <td>2</td>\n",
       "      <td>2</td>\n",
       "      <td>NaN</td>\n",
       "      <td>NaN</td>\n",
       "      <td>NaN</td>\n",
       "      <td>NaN</td>\n",
       "      <td>NaN</td>\n",
       "      <td>NaN</td>\n",
       "      <td>...</td>\n",
       "      <td>NaN</td>\n",
       "      <td>NaN</td>\n",
       "      <td>NaN</td>\n",
       "      <td>NaN</td>\n",
       "      <td>NaN</td>\n",
       "      <td>NaN</td>\n",
       "      <td>NaN</td>\n",
       "      <td>NaN</td>\n",
       "      <td>NaN</td>\n",
       "      <td>NaN</td>\n",
       "    </tr>\n",
       "  </tbody>\n",
       "</table>\n",
       "<p>20 rows × 21 columns</p>\n",
       "</div>"
      ],
      "text/plain": [
       "    Overs   Player Name  Runs  Balls  Unnamed: 4             Player    Score  \\\n",
       "0       1       Cubarsi    13      6         NaN        Virat Kohli       60   \n",
       "1       2      Van Djik    16      6         NaN   Ravindra Jadeja        47   \n",
       "2       3  Sergio Ramos    20      6         NaN     Shikhar Dhawan       28   \n",
       "3       4       Cubarsi    11      6         NaN     Jasprit Bumrah       20   \n",
       "4       5         Pedri    16      6         NaN      Parthiv Patel       22   \n",
       "5       6  Sergio Ramos    24      6         NaN     Hardik Pandya        11   \n",
       "6       7          Gavi    12      6         NaN     Sunil Gavaskar       18   \n",
       "7       8       Kimmich    16      6         NaN   Rohit Sharma (C)        9   \n",
       "8       9      Van Djik     7      6         NaN   Sachin Tendulkar        9   \n",
       "9      10          Gavi    10      6         NaN  Ravi Shastri (VC)       10   \n",
       "10     11      Van Djik    14      6         NaN                NaN      NaN   \n",
       "11     12       Cubarsi    10      6         NaN                NaN      NaN   \n",
       "12     13         Pedri    11      6         NaN             Player  Wickets   \n",
       "13     14  Sergio Ramos    13      6         NaN           Van Djik        4   \n",
       "14     15       Kimmich    17      6         NaN       Sergio Ramos        2   \n",
       "15     16      Van Djik    12      6         NaN            Cubarsi        2   \n",
       "16     17  Sergio Ramos    10      6         NaN            Kimmich        1   \n",
       "17     18         Pedri    19      6         NaN               Gavi        0   \n",
       "18     19       Cubarsi    13      6         NaN              Pedri        1   \n",
       "19     20         Pedri     2      2         NaN                NaN      NaN   \n",
       "\n",
       "    Dots Singles Singles Runs  ...       Doubles Runs      Triples  \\\n",
       "0      3       0            0  ...                  6            1   \n",
       "1      1       7            7  ...                  6            3   \n",
       "2      4       3            3  ...                  0            2   \n",
       "3      3       2            2  ...                  0            1   \n",
       "4      1       0            0  ...                  2            3   \n",
       "5      3       0            0  ...                  8            1   \n",
       "6      0       0            1  ...                  2            0   \n",
       "7      0       0            0  ...                  2            1   \n",
       "8      1       0            0  ...                  0            3   \n",
       "9      1       0            0  ...                  0            0   \n",
       "10   NaN     NaN          NaN  ...                NaN          NaN   \n",
       "11   NaN     NaN          NaN  ...                NaN          NaN   \n",
       "12  Runs   Bowls        Overs  ...  Boundry Score (4)  Boundry (6)   \n",
       "13    49      24            4  ...                  0            1   \n",
       "14    67      24            4  ...                 12            2   \n",
       "15    47      24            4  ...                  4            3   \n",
       "16    33      12            2  ...                  8            0   \n",
       "17    22      12            2  ...                  8            0   \n",
       "18    48      20          3.2  ...                 20            0   \n",
       "19   NaN     NaN          NaN  ...                NaN          NaN   \n",
       "\n",
       "          Triple Runs                Fours Fours Runs         Sixes  \\\n",
       "0                   3                    6         24             2   \n",
       "1                   9                    1          4             1   \n",
       "2                   6                    1          4             0   \n",
       "3                   3                    1          4             1   \n",
       "4                   9                    0          0             1   \n",
       "5                   3                    0          0             0   \n",
       "6                   0                    0          0             0   \n",
       "7                   3                    1          4             0   \n",
       "8                   9                    0          0             0   \n",
       "9                   0                    1          4             1   \n",
       "10                NaN                  NaN        NaN           NaN   \n",
       "11                NaN                  NaN        NaN           NaN   \n",
       "12  Boundry Score (6)  Total Boundry Score       Dots  No Ball (NB)   \n",
       "13                  6                    6          3             3   \n",
       "14                 12                   24          3             0   \n",
       "15                 18                   22          5             0   \n",
       "16                  0                    8          1             1   \n",
       "17                  0                    8          2             2   \n",
       "18                  0                   20          5             1   \n",
       "19                NaN                  NaN        NaN           NaN   \n",
       "\n",
       "   Sixes Runs           Overthrow     Overthrow Runs         Total  \n",
       "0          12                   3                 15            60  \n",
       "1           6                   3                 15            47  \n",
       "2           0                   3                 15            28  \n",
       "3           6                   1                  5            20  \n",
       "4           6                   1                  5            22  \n",
       "5           0                   0                  0            11  \n",
       "6           0                   3                 15            18  \n",
       "7           0                   0                  0             9  \n",
       "8           0                   0                  0             9  \n",
       "9           6                   0                  0            10  \n",
       "10        NaN                 NaN                NaN           NaN  \n",
       "11        NaN                 NaN                NaN           NaN  \n",
       "12  Wide (WD)  Leg Bye (LB) Balls  Leg Bye (LB) Runs  Total Extras  \n",
       "13          0                   2                  6             9  \n",
       "14          1                   0                  0             1  \n",
       "15          1                   2                  6             7  \n",
       "16          0                   1                  3             4  \n",
       "17          1                   0                  0             3  \n",
       "18          1                   2                  6             8  \n",
       "19        NaN                 NaN                NaN           NaN  \n",
       "\n",
       "[20 rows x 21 columns]"
      ]
     },
     "execution_count": 18,
     "metadata": {},
     "output_type": "execute_result"
    }
   ],
   "source": [
    "gh.dropna()\n",
    "gh"
   ]
  },
  {
   "cell_type": "code",
   "execution_count": 23,
   "id": "2726d9bf-62ea-4a6e-9ed3-18d31ce382ea",
   "metadata": {},
   "outputs": [
    {
     "data": {
      "text/html": [
       "<div>\n",
       "<style scoped>\n",
       "    .dataframe tbody tr th:only-of-type {\n",
       "        vertical-align: middle;\n",
       "    }\n",
       "\n",
       "    .dataframe tbody tr th {\n",
       "        vertical-align: top;\n",
       "    }\n",
       "\n",
       "    .dataframe thead th {\n",
       "        text-align: right;\n",
       "    }\n",
       "</style>\n",
       "<table border=\"1\" class=\"dataframe\">\n",
       "  <thead>\n",
       "    <tr style=\"text-align: right;\">\n",
       "      <th></th>\n",
       "      <th>Overs</th>\n",
       "      <th>Player Name</th>\n",
       "      <th>Runs</th>\n",
       "      <th>Balls</th>\n",
       "      <th>Unnamed: 4</th>\n",
       "      <th>Player</th>\n",
       "      <th>Score</th>\n",
       "      <th>Dots</th>\n",
       "      <th>Singles</th>\n",
       "      <th>Singles Runs</th>\n",
       "      <th>...</th>\n",
       "      <th>Doubles Runs</th>\n",
       "      <th>Triples</th>\n",
       "      <th>Triple Runs</th>\n",
       "      <th>Fours</th>\n",
       "      <th>Fours Runs</th>\n",
       "      <th>Sixes</th>\n",
       "      <th>Sixes Runs</th>\n",
       "      <th>Overthrow</th>\n",
       "      <th>Overthrow Runs</th>\n",
       "      <th>Total</th>\n",
       "    </tr>\n",
       "  </thead>\n",
       "  <tbody>\n",
       "    <tr>\n",
       "      <th>0</th>\n",
       "      <td>1</td>\n",
       "      <td>Cubarsi</td>\n",
       "      <td>13</td>\n",
       "      <td>6</td>\n",
       "      <td>NaN</td>\n",
       "      <td>Virat Kohli</td>\n",
       "      <td>60</td>\n",
       "      <td>3</td>\n",
       "      <td>0</td>\n",
       "      <td>0</td>\n",
       "      <td>...</td>\n",
       "      <td>6</td>\n",
       "      <td>1</td>\n",
       "      <td>3</td>\n",
       "      <td>6</td>\n",
       "      <td>24</td>\n",
       "      <td>2</td>\n",
       "      <td>12</td>\n",
       "      <td>3</td>\n",
       "      <td>15</td>\n",
       "      <td>60</td>\n",
       "    </tr>\n",
       "    <tr>\n",
       "      <th>1</th>\n",
       "      <td>2</td>\n",
       "      <td>Van Djik</td>\n",
       "      <td>16</td>\n",
       "      <td>6</td>\n",
       "      <td>NaN</td>\n",
       "      <td>Ravindra Jadeja</td>\n",
       "      <td>47</td>\n",
       "      <td>1</td>\n",
       "      <td>7</td>\n",
       "      <td>7</td>\n",
       "      <td>...</td>\n",
       "      <td>6</td>\n",
       "      <td>3</td>\n",
       "      <td>9</td>\n",
       "      <td>1</td>\n",
       "      <td>4</td>\n",
       "      <td>1</td>\n",
       "      <td>6</td>\n",
       "      <td>3</td>\n",
       "      <td>15</td>\n",
       "      <td>47</td>\n",
       "    </tr>\n",
       "    <tr>\n",
       "      <th>2</th>\n",
       "      <td>3</td>\n",
       "      <td>Sergio Ramos</td>\n",
       "      <td>20</td>\n",
       "      <td>6</td>\n",
       "      <td>NaN</td>\n",
       "      <td>Shikhar Dhawan</td>\n",
       "      <td>28</td>\n",
       "      <td>4</td>\n",
       "      <td>3</td>\n",
       "      <td>3</td>\n",
       "      <td>...</td>\n",
       "      <td>0</td>\n",
       "      <td>2</td>\n",
       "      <td>6</td>\n",
       "      <td>1</td>\n",
       "      <td>4</td>\n",
       "      <td>0</td>\n",
       "      <td>0</td>\n",
       "      <td>3</td>\n",
       "      <td>15</td>\n",
       "      <td>28</td>\n",
       "    </tr>\n",
       "    <tr>\n",
       "      <th>3</th>\n",
       "      <td>4</td>\n",
       "      <td>Cubarsi</td>\n",
       "      <td>11</td>\n",
       "      <td>6</td>\n",
       "      <td>NaN</td>\n",
       "      <td>Jasprit Bumrah</td>\n",
       "      <td>20</td>\n",
       "      <td>3</td>\n",
       "      <td>2</td>\n",
       "      <td>2</td>\n",
       "      <td>...</td>\n",
       "      <td>0</td>\n",
       "      <td>1</td>\n",
       "      <td>3</td>\n",
       "      <td>1</td>\n",
       "      <td>4</td>\n",
       "      <td>1</td>\n",
       "      <td>6</td>\n",
       "      <td>1</td>\n",
       "      <td>5</td>\n",
       "      <td>20</td>\n",
       "    </tr>\n",
       "    <tr>\n",
       "      <th>4</th>\n",
       "      <td>5</td>\n",
       "      <td>Pedri</td>\n",
       "      <td>16</td>\n",
       "      <td>6</td>\n",
       "      <td>NaN</td>\n",
       "      <td>Parthiv Patel</td>\n",
       "      <td>22</td>\n",
       "      <td>1</td>\n",
       "      <td>0</td>\n",
       "      <td>0</td>\n",
       "      <td>...</td>\n",
       "      <td>2</td>\n",
       "      <td>3</td>\n",
       "      <td>9</td>\n",
       "      <td>0</td>\n",
       "      <td>0</td>\n",
       "      <td>1</td>\n",
       "      <td>6</td>\n",
       "      <td>1</td>\n",
       "      <td>5</td>\n",
       "      <td>22</td>\n",
       "    </tr>\n",
       "    <tr>\n",
       "      <th>5</th>\n",
       "      <td>6</td>\n",
       "      <td>Sergio Ramos</td>\n",
       "      <td>24</td>\n",
       "      <td>6</td>\n",
       "      <td>NaN</td>\n",
       "      <td>Hardik Pandya</td>\n",
       "      <td>11</td>\n",
       "      <td>3</td>\n",
       "      <td>0</td>\n",
       "      <td>0</td>\n",
       "      <td>...</td>\n",
       "      <td>8</td>\n",
       "      <td>1</td>\n",
       "      <td>3</td>\n",
       "      <td>0</td>\n",
       "      <td>0</td>\n",
       "      <td>0</td>\n",
       "      <td>0</td>\n",
       "      <td>0</td>\n",
       "      <td>0</td>\n",
       "      <td>11</td>\n",
       "    </tr>\n",
       "    <tr>\n",
       "      <th>6</th>\n",
       "      <td>7</td>\n",
       "      <td>Gavi</td>\n",
       "      <td>12</td>\n",
       "      <td>6</td>\n",
       "      <td>NaN</td>\n",
       "      <td>Sunil Gavaskar</td>\n",
       "      <td>18</td>\n",
       "      <td>0</td>\n",
       "      <td>0</td>\n",
       "      <td>1</td>\n",
       "      <td>...</td>\n",
       "      <td>2</td>\n",
       "      <td>0</td>\n",
       "      <td>0</td>\n",
       "      <td>0</td>\n",
       "      <td>0</td>\n",
       "      <td>0</td>\n",
       "      <td>0</td>\n",
       "      <td>3</td>\n",
       "      <td>15</td>\n",
       "      <td>18</td>\n",
       "    </tr>\n",
       "    <tr>\n",
       "      <th>7</th>\n",
       "      <td>8</td>\n",
       "      <td>Kimmich</td>\n",
       "      <td>16</td>\n",
       "      <td>6</td>\n",
       "      <td>NaN</td>\n",
       "      <td>Rohit Sharma (C)</td>\n",
       "      <td>9</td>\n",
       "      <td>0</td>\n",
       "      <td>0</td>\n",
       "      <td>0</td>\n",
       "      <td>...</td>\n",
       "      <td>2</td>\n",
       "      <td>1</td>\n",
       "      <td>3</td>\n",
       "      <td>1</td>\n",
       "      <td>4</td>\n",
       "      <td>0</td>\n",
       "      <td>0</td>\n",
       "      <td>0</td>\n",
       "      <td>0</td>\n",
       "      <td>9</td>\n",
       "    </tr>\n",
       "    <tr>\n",
       "      <th>8</th>\n",
       "      <td>9</td>\n",
       "      <td>Van Djik</td>\n",
       "      <td>7</td>\n",
       "      <td>6</td>\n",
       "      <td>NaN</td>\n",
       "      <td>Sachin Tendulkar</td>\n",
       "      <td>9</td>\n",
       "      <td>1</td>\n",
       "      <td>0</td>\n",
       "      <td>0</td>\n",
       "      <td>...</td>\n",
       "      <td>0</td>\n",
       "      <td>3</td>\n",
       "      <td>9</td>\n",
       "      <td>0</td>\n",
       "      <td>0</td>\n",
       "      <td>0</td>\n",
       "      <td>0</td>\n",
       "      <td>0</td>\n",
       "      <td>0</td>\n",
       "      <td>9</td>\n",
       "    </tr>\n",
       "    <tr>\n",
       "      <th>9</th>\n",
       "      <td>10</td>\n",
       "      <td>Gavi</td>\n",
       "      <td>10</td>\n",
       "      <td>6</td>\n",
       "      <td>NaN</td>\n",
       "      <td>Ravi Shastri (VC)</td>\n",
       "      <td>10</td>\n",
       "      <td>1</td>\n",
       "      <td>0</td>\n",
       "      <td>0</td>\n",
       "      <td>...</td>\n",
       "      <td>0</td>\n",
       "      <td>0</td>\n",
       "      <td>0</td>\n",
       "      <td>1</td>\n",
       "      <td>4</td>\n",
       "      <td>1</td>\n",
       "      <td>6</td>\n",
       "      <td>0</td>\n",
       "      <td>0</td>\n",
       "      <td>10</td>\n",
       "    </tr>\n",
       "    <tr>\n",
       "      <th>10</th>\n",
       "      <td>11</td>\n",
       "      <td>Van Djik</td>\n",
       "      <td>14</td>\n",
       "      <td>6</td>\n",
       "      <td>NaN</td>\n",
       "      <td>NaN</td>\n",
       "      <td>NaN</td>\n",
       "      <td>NaN</td>\n",
       "      <td>NaN</td>\n",
       "      <td>NaN</td>\n",
       "      <td>...</td>\n",
       "      <td>NaN</td>\n",
       "      <td>NaN</td>\n",
       "      <td>NaN</td>\n",
       "      <td>NaN</td>\n",
       "      <td>NaN</td>\n",
       "      <td>NaN</td>\n",
       "      <td>NaN</td>\n",
       "      <td>NaN</td>\n",
       "      <td>NaN</td>\n",
       "      <td>NaN</td>\n",
       "    </tr>\n",
       "    <tr>\n",
       "      <th>11</th>\n",
       "      <td>12</td>\n",
       "      <td>Cubarsi</td>\n",
       "      <td>10</td>\n",
       "      <td>6</td>\n",
       "      <td>NaN</td>\n",
       "      <td>NaN</td>\n",
       "      <td>NaN</td>\n",
       "      <td>NaN</td>\n",
       "      <td>NaN</td>\n",
       "      <td>NaN</td>\n",
       "      <td>...</td>\n",
       "      <td>NaN</td>\n",
       "      <td>NaN</td>\n",
       "      <td>NaN</td>\n",
       "      <td>NaN</td>\n",
       "      <td>NaN</td>\n",
       "      <td>NaN</td>\n",
       "      <td>NaN</td>\n",
       "      <td>NaN</td>\n",
       "      <td>NaN</td>\n",
       "      <td>NaN</td>\n",
       "    </tr>\n",
       "    <tr>\n",
       "      <th>12</th>\n",
       "      <td>13</td>\n",
       "      <td>Pedri</td>\n",
       "      <td>11</td>\n",
       "      <td>6</td>\n",
       "      <td>NaN</td>\n",
       "      <td>Player</td>\n",
       "      <td>Wickets</td>\n",
       "      <td>Runs</td>\n",
       "      <td>Bowls</td>\n",
       "      <td>Overs</td>\n",
       "      <td>...</td>\n",
       "      <td>Boundry Score (4)</td>\n",
       "      <td>Boundry (6)</td>\n",
       "      <td>Boundry Score (6)</td>\n",
       "      <td>Total Boundry Score</td>\n",
       "      <td>Dots</td>\n",
       "      <td>No Ball (NB)</td>\n",
       "      <td>Wide (WD)</td>\n",
       "      <td>Leg Bye (LB) Balls</td>\n",
       "      <td>Leg Bye (LB) Runs</td>\n",
       "      <td>Total Extras</td>\n",
       "    </tr>\n",
       "    <tr>\n",
       "      <th>13</th>\n",
       "      <td>14</td>\n",
       "      <td>Sergio Ramos</td>\n",
       "      <td>13</td>\n",
       "      <td>6</td>\n",
       "      <td>NaN</td>\n",
       "      <td>Van Djik</td>\n",
       "      <td>4</td>\n",
       "      <td>49</td>\n",
       "      <td>24</td>\n",
       "      <td>4</td>\n",
       "      <td>...</td>\n",
       "      <td>0</td>\n",
       "      <td>1</td>\n",
       "      <td>6</td>\n",
       "      <td>6</td>\n",
       "      <td>3</td>\n",
       "      <td>3</td>\n",
       "      <td>0</td>\n",
       "      <td>2</td>\n",
       "      <td>6</td>\n",
       "      <td>9</td>\n",
       "    </tr>\n",
       "    <tr>\n",
       "      <th>14</th>\n",
       "      <td>15</td>\n",
       "      <td>Kimmich</td>\n",
       "      <td>17</td>\n",
       "      <td>6</td>\n",
       "      <td>NaN</td>\n",
       "      <td>Sergio Ramos</td>\n",
       "      <td>2</td>\n",
       "      <td>67</td>\n",
       "      <td>24</td>\n",
       "      <td>4</td>\n",
       "      <td>...</td>\n",
       "      <td>12</td>\n",
       "      <td>2</td>\n",
       "      <td>12</td>\n",
       "      <td>24</td>\n",
       "      <td>3</td>\n",
       "      <td>0</td>\n",
       "      <td>1</td>\n",
       "      <td>0</td>\n",
       "      <td>0</td>\n",
       "      <td>1</td>\n",
       "    </tr>\n",
       "    <tr>\n",
       "      <th>15</th>\n",
       "      <td>16</td>\n",
       "      <td>Van Djik</td>\n",
       "      <td>12</td>\n",
       "      <td>6</td>\n",
       "      <td>NaN</td>\n",
       "      <td>Cubarsi</td>\n",
       "      <td>2</td>\n",
       "      <td>47</td>\n",
       "      <td>24</td>\n",
       "      <td>4</td>\n",
       "      <td>...</td>\n",
       "      <td>4</td>\n",
       "      <td>3</td>\n",
       "      <td>18</td>\n",
       "      <td>22</td>\n",
       "      <td>5</td>\n",
       "      <td>0</td>\n",
       "      <td>1</td>\n",
       "      <td>2</td>\n",
       "      <td>6</td>\n",
       "      <td>7</td>\n",
       "    </tr>\n",
       "    <tr>\n",
       "      <th>16</th>\n",
       "      <td>17</td>\n",
       "      <td>Sergio Ramos</td>\n",
       "      <td>10</td>\n",
       "      <td>6</td>\n",
       "      <td>NaN</td>\n",
       "      <td>Kimmich</td>\n",
       "      <td>1</td>\n",
       "      <td>33</td>\n",
       "      <td>12</td>\n",
       "      <td>2</td>\n",
       "      <td>...</td>\n",
       "      <td>8</td>\n",
       "      <td>0</td>\n",
       "      <td>0</td>\n",
       "      <td>8</td>\n",
       "      <td>1</td>\n",
       "      <td>1</td>\n",
       "      <td>0</td>\n",
       "      <td>1</td>\n",
       "      <td>3</td>\n",
       "      <td>4</td>\n",
       "    </tr>\n",
       "    <tr>\n",
       "      <th>17</th>\n",
       "      <td>18</td>\n",
       "      <td>Pedri</td>\n",
       "      <td>19</td>\n",
       "      <td>6</td>\n",
       "      <td>NaN</td>\n",
       "      <td>Gavi</td>\n",
       "      <td>0</td>\n",
       "      <td>22</td>\n",
       "      <td>12</td>\n",
       "      <td>2</td>\n",
       "      <td>...</td>\n",
       "      <td>8</td>\n",
       "      <td>0</td>\n",
       "      <td>0</td>\n",
       "      <td>8</td>\n",
       "      <td>2</td>\n",
       "      <td>2</td>\n",
       "      <td>1</td>\n",
       "      <td>0</td>\n",
       "      <td>0</td>\n",
       "      <td>3</td>\n",
       "    </tr>\n",
       "    <tr>\n",
       "      <th>18</th>\n",
       "      <td>19</td>\n",
       "      <td>Cubarsi</td>\n",
       "      <td>13</td>\n",
       "      <td>6</td>\n",
       "      <td>NaN</td>\n",
       "      <td>Pedri</td>\n",
       "      <td>1</td>\n",
       "      <td>48</td>\n",
       "      <td>20</td>\n",
       "      <td>3.2</td>\n",
       "      <td>...</td>\n",
       "      <td>20</td>\n",
       "      <td>0</td>\n",
       "      <td>0</td>\n",
       "      <td>20</td>\n",
       "      <td>5</td>\n",
       "      <td>1</td>\n",
       "      <td>1</td>\n",
       "      <td>2</td>\n",
       "      <td>6</td>\n",
       "      <td>8</td>\n",
       "    </tr>\n",
       "    <tr>\n",
       "      <th>19</th>\n",
       "      <td>20</td>\n",
       "      <td>Pedri</td>\n",
       "      <td>2</td>\n",
       "      <td>2</td>\n",
       "      <td>NaN</td>\n",
       "      <td>NaN</td>\n",
       "      <td>NaN</td>\n",
       "      <td>NaN</td>\n",
       "      <td>NaN</td>\n",
       "      <td>NaN</td>\n",
       "      <td>...</td>\n",
       "      <td>NaN</td>\n",
       "      <td>NaN</td>\n",
       "      <td>NaN</td>\n",
       "      <td>NaN</td>\n",
       "      <td>NaN</td>\n",
       "      <td>NaN</td>\n",
       "      <td>NaN</td>\n",
       "      <td>NaN</td>\n",
       "      <td>NaN</td>\n",
       "      <td>NaN</td>\n",
       "    </tr>\n",
       "  </tbody>\n",
       "</table>\n",
       "<p>20 rows × 21 columns</p>\n",
       "</div>"
      ],
      "text/plain": [
       "    Overs   Player Name  Runs  Balls  Unnamed: 4             Player    Score  \\\n",
       "0       1       Cubarsi    13      6         NaN        Virat Kohli       60   \n",
       "1       2      Van Djik    16      6         NaN   Ravindra Jadeja        47   \n",
       "2       3  Sergio Ramos    20      6         NaN     Shikhar Dhawan       28   \n",
       "3       4       Cubarsi    11      6         NaN     Jasprit Bumrah       20   \n",
       "4       5         Pedri    16      6         NaN      Parthiv Patel       22   \n",
       "5       6  Sergio Ramos    24      6         NaN     Hardik Pandya        11   \n",
       "6       7          Gavi    12      6         NaN     Sunil Gavaskar       18   \n",
       "7       8       Kimmich    16      6         NaN   Rohit Sharma (C)        9   \n",
       "8       9      Van Djik     7      6         NaN   Sachin Tendulkar        9   \n",
       "9      10          Gavi    10      6         NaN  Ravi Shastri (VC)       10   \n",
       "10     11      Van Djik    14      6         NaN                NaN      NaN   \n",
       "11     12       Cubarsi    10      6         NaN                NaN      NaN   \n",
       "12     13         Pedri    11      6         NaN             Player  Wickets   \n",
       "13     14  Sergio Ramos    13      6         NaN           Van Djik        4   \n",
       "14     15       Kimmich    17      6         NaN       Sergio Ramos        2   \n",
       "15     16      Van Djik    12      6         NaN            Cubarsi        2   \n",
       "16     17  Sergio Ramos    10      6         NaN            Kimmich        1   \n",
       "17     18         Pedri    19      6         NaN               Gavi        0   \n",
       "18     19       Cubarsi    13      6         NaN              Pedri        1   \n",
       "19     20         Pedri     2      2         NaN                NaN      NaN   \n",
       "\n",
       "    Dots Singles Singles Runs  ...       Doubles Runs      Triples  \\\n",
       "0      3       0            0  ...                  6            1   \n",
       "1      1       7            7  ...                  6            3   \n",
       "2      4       3            3  ...                  0            2   \n",
       "3      3       2            2  ...                  0            1   \n",
       "4      1       0            0  ...                  2            3   \n",
       "5      3       0            0  ...                  8            1   \n",
       "6      0       0            1  ...                  2            0   \n",
       "7      0       0            0  ...                  2            1   \n",
       "8      1       0            0  ...                  0            3   \n",
       "9      1       0            0  ...                  0            0   \n",
       "10   NaN     NaN          NaN  ...                NaN          NaN   \n",
       "11   NaN     NaN          NaN  ...                NaN          NaN   \n",
       "12  Runs   Bowls        Overs  ...  Boundry Score (4)  Boundry (6)   \n",
       "13    49      24            4  ...                  0            1   \n",
       "14    67      24            4  ...                 12            2   \n",
       "15    47      24            4  ...                  4            3   \n",
       "16    33      12            2  ...                  8            0   \n",
       "17    22      12            2  ...                  8            0   \n",
       "18    48      20          3.2  ...                 20            0   \n",
       "19   NaN     NaN          NaN  ...                NaN          NaN   \n",
       "\n",
       "          Triple Runs                Fours Fours Runs         Sixes  \\\n",
       "0                   3                    6         24             2   \n",
       "1                   9                    1          4             1   \n",
       "2                   6                    1          4             0   \n",
       "3                   3                    1          4             1   \n",
       "4                   9                    0          0             1   \n",
       "5                   3                    0          0             0   \n",
       "6                   0                    0          0             0   \n",
       "7                   3                    1          4             0   \n",
       "8                   9                    0          0             0   \n",
       "9                   0                    1          4             1   \n",
       "10                NaN                  NaN        NaN           NaN   \n",
       "11                NaN                  NaN        NaN           NaN   \n",
       "12  Boundry Score (6)  Total Boundry Score       Dots  No Ball (NB)   \n",
       "13                  6                    6          3             3   \n",
       "14                 12                   24          3             0   \n",
       "15                 18                   22          5             0   \n",
       "16                  0                    8          1             1   \n",
       "17                  0                    8          2             2   \n",
       "18                  0                   20          5             1   \n",
       "19                NaN                  NaN        NaN           NaN   \n",
       "\n",
       "   Sixes Runs           Overthrow     Overthrow Runs         Total  \n",
       "0          12                   3                 15            60  \n",
       "1           6                   3                 15            47  \n",
       "2           0                   3                 15            28  \n",
       "3           6                   1                  5            20  \n",
       "4           6                   1                  5            22  \n",
       "5           0                   0                  0            11  \n",
       "6           0                   3                 15            18  \n",
       "7           0                   0                  0             9  \n",
       "8           0                   0                  0             9  \n",
       "9           6                   0                  0            10  \n",
       "10        NaN                 NaN                NaN           NaN  \n",
       "11        NaN                 NaN                NaN           NaN  \n",
       "12  Wide (WD)  Leg Bye (LB) Balls  Leg Bye (LB) Runs  Total Extras  \n",
       "13          0                   2                  6             9  \n",
       "14          1                   0                  0             1  \n",
       "15          1                   2                  6             7  \n",
       "16          0                   1                  3             4  \n",
       "17          1                   0                  0             3  \n",
       "18          1                   2                  6             8  \n",
       "19        NaN                 NaN                NaN           NaN  \n",
       "\n",
       "[20 rows x 21 columns]"
      ]
     },
     "execution_count": 23,
     "metadata": {},
     "output_type": "execute_result"
    }
   ],
   "source": [
    "df_clean = gh.dropna(subset=['Player'])  # Replace with your column name\n",
    "gh"
   ]
  },
  {
   "cell_type": "code",
   "execution_count": null,
   "id": "bd04b2b3-c10c-4eac-b167-2cf21f5f5133",
   "metadata": {},
   "outputs": [],
   "source": []
  }
 ],
 "metadata": {
  "kernelspec": {
   "display_name": "Python 3 (ipykernel)",
   "language": "python",
   "name": "python3"
  },
  "language_info": {
   "codemirror_mode": {
    "name": "ipython",
    "version": 3
   },
   "file_extension": ".py",
   "mimetype": "text/x-python",
   "name": "python",
   "nbconvert_exporter": "python",
   "pygments_lexer": "ipython3",
   "version": "3.13.1"
  }
 },
 "nbformat": 4,
 "nbformat_minor": 5
}
